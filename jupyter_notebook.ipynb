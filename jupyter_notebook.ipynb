{
 "cells": [
  {
   "cell_type": "markdown",
   "metadata": {},
   "source": [
    "## 1\n",
    "\n",
    "**Summarize for us the goal of this project and how machine learning is useful in trying to accomplish it. As part of your answer, give some background on the dataset and how it can be used to answer the project question. Were there any outliers in the data when you got it, and how did you handle those?**"
   ]
  },
  {
   "cell_type": "markdown",
   "metadata": {},
   "source": [
    "The goal of this project is to train a supervised machine learning algorithm for prediction.  To do this, we'll be using the Enron data set.  This data set contains financial information and email data from various employees in that former company.  Enron was an energy commodities and services corporation that went bankrupt in 2001 due to fraud.  The supervised model will attempt to classify whether or not an employee was a person of interest (ie whether or not they were complicit)."
   ]
  },
  {
   "cell_type": "code",
   "execution_count": 1,
   "metadata": {
    "collapsed": false
   },
   "outputs": [],
   "source": [
    "#!/usr/bin/python\n",
    "# -*- coding: utf-8 -*-\n",
    "import pickle"
   ]
  },
  {
   "cell_type": "code",
   "execution_count": 2,
   "metadata": {
    "collapsed": false
   },
   "outputs": [],
   "source": [
    "### Task 1: Select what features you'll use.\n",
    "### features_list is a list of strings, each of which is a feature name.\n",
    "### The first feature must be \"poi\".\n",
    "\n",
    "financial_features = ['salary', 'deferral_payments', 'total_payments',\n",
    "'loan_advances', 'bonus', 'restricted_stock_deferred', 'deferred_income',\n",
    "'total_stock_value', 'expenses', 'exercised_stock_options', 'other',\n",
    "'long_term_incentive', 'restricted_stock', 'director_fees']\n",
    "# all units in USD\n",
    "email_features = ['to_messages', 'from_poi_to_this_person', 'email_address',\n",
    "'from_messages', 'from_this_person_to_poi', 'shared_receipt_with_poi']\n",
    "# email_address only non-numeric\n",
    "poi_label = ['poi'] # boolean\n",
    "# include all features to start\n",
    "features_list = poi_label + financial_features + email_features\n",
    "\n",
    "### Load the dictionary containing the dataset\n",
    "with open(\"final_project_dataset.pkl\", \"r\") as data_file:\n",
    "    data_dict = pickle.load(data_file)"
   ]
  },
  {
   "cell_type": "code",
   "execution_count": 3,
   "metadata": {
    "collapsed": false
   },
   "outputs": [
    {
     "name": "stdout",
     "output_type": "stream",
     "text": [
      "<class 'pandas.core.frame.DataFrame'>\n",
      "Index: 146 entries, ALLEN PHILLIP K to YEAP SOON\n",
      "Data columns (total 21 columns):\n",
      "salary                       95 non-null float64\n",
      "to_messages                  86 non-null float64\n",
      "deferral_payments            39 non-null float64\n",
      "total_payments               125 non-null float64\n",
      "exercised_stock_options      102 non-null float64\n",
      "bonus                        82 non-null float64\n",
      "restricted_stock             110 non-null float64\n",
      "shared_receipt_with_poi      86 non-null float64\n",
      "restricted_stock_deferred    18 non-null float64\n",
      "total_stock_value            126 non-null float64\n",
      "expenses                     95 non-null float64\n",
      "loan_advances                4 non-null float64\n",
      "from_messages                86 non-null float64\n",
      "other                        93 non-null float64\n",
      "from_this_person_to_poi      86 non-null float64\n",
      "poi                          146 non-null bool\n",
      "director_fees                17 non-null float64\n",
      "deferred_income              49 non-null float64\n",
      "long_term_incentive          66 non-null float64\n",
      "email_address                111 non-null object\n",
      "from_poi_to_this_person      86 non-null float64\n",
      "dtypes: bool(1), float64(19), object(1)\n",
      "memory usage: 24.1+ KB\n"
     ]
    }
   ],
   "source": [
    "### Task 2: Remove outliers\n",
    "\n",
    "import pandas as pd\n",
    "import numpy as np\n",
    "\n",
    "df = pd.DataFrame.from_dict(data_dict, orient = 'index')\n",
    "#print df.isnull().any()\n",
    "# NaN values are actually strings\n",
    "df = df.replace('NaN', np.nan) # works better than '0' for stats/plots\n",
    "# general data set information\n",
    "df.info()"
   ]
  },
  {
   "cell_type": "code",
   "execution_count": 4,
   "metadata": {
    "collapsed": false
   },
   "outputs": [
    {
     "data": {
      "text/plain": [
       "18"
      ]
     },
     "execution_count": 4,
     "metadata": {},
     "output_type": "execute_result"
    }
   ],
   "source": [
    "# number of POIs\n",
    "sum(df.poi == True)"
   ]
  },
  {
   "cell_type": "markdown",
   "metadata": {},
   "source": [
    "There are 146 observations (people) in the data set and a total of 21 features.  Out of 146 people, 18 are persons of interest.  Some features have more missing values than others.  Below is the percentage of missing values in each feature."
   ]
  },
  {
   "cell_type": "code",
   "execution_count": 5,
   "metadata": {
    "collapsed": false
   },
   "outputs": [
    {
     "data": {
      "text/plain": [
       "salary                       34.931507\n",
       "to_messages                  41.095890\n",
       "deferral_payments            73.287671\n",
       "total_payments               14.383562\n",
       "exercised_stock_options      30.136986\n",
       "bonus                        43.835616\n",
       "restricted_stock             24.657534\n",
       "shared_receipt_with_poi      41.095890\n",
       "restricted_stock_deferred    87.671233\n",
       "total_stock_value            13.698630\n",
       "expenses                     34.931507\n",
       "loan_advances                97.260274\n",
       "from_messages                41.095890\n",
       "other                        36.301370\n",
       "from_this_person_to_poi      41.095890\n",
       "poi                           0.000000\n",
       "director_fees                88.356164\n",
       "deferred_income              66.438356\n",
       "long_term_incentive          54.794521\n",
       "email_address                23.972603\n",
       "from_poi_to_this_person      41.095890\n",
       "dtype: float64"
      ]
     },
     "execution_count": 5,
     "metadata": {},
     "output_type": "execute_result"
    }
   ],
   "source": [
    "100* df.isnull().sum() / df.shape[0]"
   ]
  },
  {
   "cell_type": "markdown",
   "metadata": {},
   "source": [
    "There are a few features that have more than 50% missing data and might be worthwhile to exclude:\n",
    "\n",
    "- loan_advances\n",
    "- director_fees\n",
    "- restricted_stock_deferred\n",
    "- deferral_payments\n",
    "- deferred_income\n",
    "- long_term_incentive"
   ]
  },
  {
   "cell_type": "code",
   "execution_count": 6,
   "metadata": {
    "collapsed": false
   },
   "outputs": [
    {
     "data": {
      "text/plain": [
       "loan_advances                17\n",
       "director_fees                18\n",
       "restricted_stock_deferred    18\n",
       "deferral_payments            13\n",
       "deferred_income               7\n",
       "long_term_incentive           6\n",
       "dtype: int64"
      ]
     },
     "execution_count": 6,
     "metadata": {},
     "output_type": "execute_result"
    }
   ],
   "source": [
    "missing_data = ['loan_advances', 'director_fees', 'restricted_stock_deferred',\\\n",
    "               'deferral_payments', 'deferred_income', 'long_term_incentive']\n",
    "# number of NaN for POIs in missing data features\n",
    "df[df.poi == True][missing_data].isnull().sum()"
   ]
  },
  {
   "cell_type": "markdown",
   "metadata": {},
   "source": [
    "Loan advances, director fees, and restricted stock deferred need to be removed since they have little to no data for POIs."
   ]
  },
  {
   "cell_type": "code",
   "execution_count": 7,
   "metadata": {
    "collapsed": false
   },
   "outputs": [],
   "source": [
    "remove = ['loan_advances', 'director_fees', 'restricted_stock_deferred']\n",
    "features_list = [feat for feat in features_list if feat not in remove]"
   ]
  },
  {
   "cell_type": "markdown",
   "metadata": {},
   "source": [
    "After looking over the `insiderpay.pdf` file, I decided to remove `THE TRAVEL AGENCY IN THE PARK` observation (not a person)."
   ]
  },
  {
   "cell_type": "code",
   "execution_count": 8,
   "metadata": {
    "collapsed": false
   },
   "outputs": [],
   "source": [
    "df = df.drop('THE TRAVEL AGENCY IN THE PARK')"
   ]
  },
  {
   "cell_type": "code",
   "execution_count": 9,
   "metadata": {
    "collapsed": false
   },
   "outputs": [
    {
     "data": {
      "image/png": "[encoded data removed]",
      "text/plain": [
       "<matplotlib.figure.Figure at 0x7f488ff04190>"
      ]
     },
     "metadata": {},
     "output_type": "display_data"
    }
   ],
   "source": [
    "import seaborn as sns\n",
    "%matplotlib inline\n",
    "# if NaN strings are kept, need to filter these values\n",
    "#df_plt = df[(df.total_payments != \"NaN\") & (df.total_stock_value != \"NaN\")]\n",
    "\n",
    "# total payments vs total stock value\n",
    "sns.jointplot(x=\"total_payments\", y=\"total_stock_value\", data=df, dropna=True)\n",
    "sns.plt.show()"
   ]
  },
  {
   "cell_type": "code",
   "execution_count": 10,
   "metadata": {
    "collapsed": false
   },
   "outputs": [
    {
     "data": {
      "text/plain": [
       "Index([u'LAY KENNETH L', u'TOTAL'], dtype='object')"
      ]
     },
     "execution_count": 10,
     "metadata": {},
     "output_type": "execute_result"
    }
   ],
   "source": [
    "df[df.total_payments > 1e8].index"
   ]
  },
  {
   "cell_type": "code",
   "execution_count": 11,
   "metadata": {
    "collapsed": false
   },
   "outputs": [
    {
     "data": {
      "text/plain": [
       "'TOTAL'"
      ]
     },
     "execution_count": 11,
     "metadata": {},
     "output_type": "execute_result"
    }
   ],
   "source": [
    "df.total_payments.idxmax()"
   ]
  },
  {
   "cell_type": "markdown",
   "metadata": {
    "collapsed": false
   },
   "source": [
    "There are 2 significant outliers in the data.  The first and largest is `TOTAL` which is simply the sum of all observations, so this will be removed.  The other is Ken Lay, who was the CEO of Enron and a definite POI in the data.  Ken Lay will be kept, especially since there are few POIs to begin with."
   ]
  },
  {
   "cell_type": "code",
   "execution_count": 12,
   "metadata": {
    "collapsed": true
   },
   "outputs": [],
   "source": [
    "df = df.drop('TOTAL')"
   ]
  },
  {
   "cell_type": "code",
   "execution_count": 13,
   "metadata": {
    "collapsed": false
   },
   "outputs": [
    {
     "data": {
      "text/plain": [
       "Index([u'LOCKHART EUGENE E'], dtype='object')"
      ]
     },
     "execution_count": 13,
     "metadata": {},
     "output_type": "execute_result"
    }
   ],
   "source": [
    "# people with no financial data\n",
    "df[df[financial_features].isnull().all(axis=1)].index"
   ]
  },
  {
   "cell_type": "markdown",
   "metadata": {},
   "source": [
    "There is 1 person without any financial data that will also need to be removed."
   ]
  },
  {
   "cell_type": "code",
   "execution_count": 14,
   "metadata": {
    "collapsed": false
   },
   "outputs": [],
   "source": [
    "df = df.drop('LOCKHART EUGENE E')"
   ]
  },
  {
   "cell_type": "markdown",
   "metadata": {},
   "source": [
    "I've also decided to leave out some of the numerical email features.  Those that are from/to POI messages contain information about who and who is not a POI (ie data leakage)."
   ]
  },
  {
   "cell_type": "code",
   "execution_count": 15,
   "metadata": {
    "collapsed": true
   },
   "outputs": [],
   "source": [
    "leakage = ['from_this_person_to_poi', 'from_poi_to_this_person', 'shared_receipt_with_poi']\n",
    "features_list = [feat for feat in features_list if feat not in leakage]"
   ]
  },
  {
   "cell_type": "markdown",
   "metadata": {},
   "source": [
    "To get an idea for what type of benchmark classifier to use, I want to see if the data looks remotely linearly separable (ie logistic regression or tree based/other)."
   ]
  },
  {
   "cell_type": "code",
   "execution_count": 16,
   "metadata": {
    "collapsed": false
   },
   "outputs": [
    {
     "data": {
      "image/png": "[encoded data removed]",
      "text/plain": [
       "<matplotlib.figure.Figure at 0x7f488d1cffd0>"
      ]
     },
     "metadata": {},
     "output_type": "display_data"
    }
   ],
   "source": [
    "p = sns.lmplot('total_payments', 'total_stock_value', data=df, hue='poi', fit_reg=False)\n",
    "p.set(xlim=(-1e6, 1.75e7), ylim=(-1e6, 1.75e7))\n",
    "sns.plt.show()"
   ]
  },
  {
   "cell_type": "code",
   "execution_count": 17,
   "metadata": {
    "collapsed": false
   },
   "outputs": [
    {
     "data": {
      "image/png": "[encoded data removed]",
      "text/plain": [
       "<matplotlib.figure.Figure at 0x7f488ceb0cd0>"
      ]
     },
     "metadata": {},
     "output_type": "display_data"
    }
   ],
   "source": [
    "sns.lmplot('salary', 'bonus', data=df, hue='poi', fit_reg=False)\n",
    "sns.plt.show()"
   ]
  },
  {
   "cell_type": "code",
   "execution_count": 18,
   "metadata": {
    "collapsed": false
   },
   "outputs": [
    {
     "data": {
      "image/png": "[encoded data removed]",
      "text/plain": [
       "<matplotlib.figure.Figure at 0x7f488d0c1410>"
      ]
     },
     "metadata": {},
     "output_type": "display_data"
    }
   ],
   "source": [
    "sns.lmplot('exercised_stock_options', 'restricted_stock', data=df, hue='poi', fit_reg=False)\n",
    "sns.plt.show()"
   ]
  },
  {
   "cell_type": "markdown",
   "metadata": {},
   "source": [
    "Not an exhaustive search (pairs plot function in seaborn can't handle NaN values) but I don't think a logistic regression is the best choice for a benchmark classifier.  I'll try naive bayes or decision tree..."
   ]
  },
  {
   "cell_type": "code",
   "execution_count": 19,
   "metadata": {
    "collapsed": true
   },
   "outputs": [],
   "source": [
    "# dataframe back to dictionary\n",
    "df = df.replace(np.nan, 'NaN') # need to convert back to 'NaN' \n",
    "data_dict = df[features_list].to_dict(orient = 'index')"
   ]
  },
  {
   "cell_type": "code",
   "execution_count": 20,
   "metadata": {
    "collapsed": false
   },
   "outputs": [
    {
     "name": "stdout",
     "output_type": "stream",
     "text": [
      "DecisionTreeClassifier(class_weight=None, criterion='gini', max_depth=None,\n",
      "            max_features=None, max_leaf_nodes=None,\n",
      "            min_impurity_split=1e-07, min_samples_leaf=1,\n",
      "            min_samples_split=2, min_weight_fraction_leaf=0.0,\n",
      "            presort=False, random_state=None, splitter='best')\n",
      "\tAccuracy: 0.79700\tPrecision: 0.23914\tRecall: 0.23950\tF1: 0.23932\tF2: 0.23943\n",
      "\tTotal predictions: 15000\tTrue positives:  479\tFalse positives: 1524\tFalse negatives: 1521\tTrue negatives: 11476\n",
      "\n"
     ]
    }
   ],
   "source": [
    "from benchmark import benchmark_score\n",
    "benchmark_score(data_dict, features_list)"
   ]
  },
  {
   "cell_type": "code",
   "execution_count": 21,
   "metadata": {
    "collapsed": false
   },
   "outputs": [],
   "source": [
    "# dump to pickle for checkpoint\n",
    "with open(\"outlier_dataset.pkl\", \"w\") as f_out:\n",
    "    pickle.dump(data_dict, f_out)"
   ]
  },
  {
   "cell_type": "markdown",
   "metadata": {},
   "source": [
    "## 2\n",
    "\n",
    "**What features did you end up using in your POI identifier, and what selection process did you use to pick them? Did you have to do any scaling? Why or why not? As part of the assignment, you should attempt to engineer your own feature that does not come ready-made in the dataset -- explain what feature you tried to make, and the rationale behind it. (You do not necessarily have to use it in the final analysis, only engineer and test it.) In your feature selection step, if you used an algorithm like a decision tree, please also give the feature importances of the features that you use, and if you used an automated feature selection function like SelectKBest, please report the feature scores and reasons for your choice of parameter values.**"
   ]
  },
  {
   "cell_type": "markdown",
   "metadata": {},
   "source": [
    "During the data exploration and outlier removal process, I found some features with a large proportion of missing values.  There were also email features that incorporated information about POI status.  So these were all excluded from the features list:\n",
    "\n",
    "- loan_advances\n",
    "- director_fees\n",
    "- restricted_stock_deferred\n",
    "- from_this_person_to_poi\n",
    "- from_poi_to_this_person"
   ]
  },
  {
   "cell_type": "markdown",
   "metadata": {},
   "source": [
    "I created a few new features from the email corpus.  This was a pretty lengthy procedure.\n",
    "\n",
    "I first had to perform an audit to be that sure people who had email addresses and numerical email data, in fact had email text data (see `audit_emails.py`).  Then I built an email corpus for each person of all to and from emails, while cleaning the text data in the process (see `build_email_corpus.py`)."
   ]
  },
  {
   "cell_type": "code",
   "execution_count": 42,
   "metadata": {
    "collapsed": true
   },
   "outputs": [],
   "source": [
    "### Task 3: Create new feature(s)\n",
    "### Store to my_dataset for easy export below.\n",
    "\n",
    "with open(\"outlier_dataset.pkl\", \"r\") as f_in:\n",
    "        data_dict = pickle.load(f_in)"
   ]
  },
  {
   "cell_type": "code",
   "execution_count": 20,
   "metadata": {
    "collapsed": false
   },
   "outputs": [
    {
     "name": "stdout",
     "output_type": "stream",
     "text": [
      "0 paths not found\n",
      "time to build corpus: 86.95 minutes\n"
     ]
    }
   ],
   "source": [
    "from build_email_corpus import build_email_dataset\n",
    "build_email_dataset(data_dict)"
   ]
  },
  {
   "cell_type": "markdown",
   "metadata": {},
   "source": [
    "At this point each person had a new feature.  The feature is a list where every element in the list is the text for a single email.  There were too many emails to try a bag-of-words approach.  I actually tried both a count vectorizer as well as TfIdf (term frequency inverse document frequency) but the dimensionality of terms was too great.\n",
    "\n",
    "I decided to reduce the dimensionality of the email corpus for each person using LDA (latent dirichlet allocation).  The emails for each person were then reduced to just a few topics and all topics were limited in the size of vocabulary (see `build_topic_corpus.py`)."
   ]
  },
  {
   "cell_type": "code",
   "execution_count": 24,
   "metadata": {
    "collapsed": true
   },
   "outputs": [],
   "source": [
    "with open(\"emails_dataset.pkl\", \"r\") as f_in:\n",
    "        data_dict = pickle.load(f_in)"
   ]
  },
  {
   "cell_type": "code",
   "execution_count": 25,
   "metadata": {
    "collapsed": false
   },
   "outputs": [
    {
     "name": "stdout",
     "output_type": "stream",
     "text": [
      "time to build topics: 11.51 minutes\n"
     ]
    }
   ],
   "source": [
    "from build_topic_corpus import build_topic_dataset\n",
    "build_topic_dataset(data_dict)"
   ]
  },
  {
   "cell_type": "markdown",
   "metadata": {},
   "source": [
    "From here I used a random forest classifer with cross validation to extract words with predictive capability (see `create_word_features.py`).  The end result is that each person was given 10 new numerical features.  The feature name is the (hopefully) meaningful word and the value is the number of times that word occurred in that person's topic corpus."
   ]
  },
  {
   "cell_type": "code",
   "execution_count": 34,
   "metadata": {
    "collapsed": false
   },
   "outputs": [],
   "source": [
    "with open(\"topic_dataset.pkl\", \"r\") as f_in:\n",
    "        data_dict = pickle.load(f_in)"
   ]
  },
  {
   "cell_type": "code",
   "execution_count": 35,
   "metadata": {
    "collapsed": false
   },
   "outputs": [],
   "source": [
    "from create_word_features import build_word_dataset\n",
    "build_word_dataset(data_dict)"
   ]
  },
  {
   "cell_type": "code",
   "execution_count": 21,
   "metadata": {
    "collapsed": false
   },
   "outputs": [],
   "source": [
    "# final checkpoint\n",
    "with open(\"word_dataset.pkl\", \"r\") as f_in:\n",
    "        data_dict = pickle.load(f_in)"
   ]
  },
  {
   "cell_type": "markdown",
   "metadata": {},
   "source": [
    "With new features added, see if they have improved the benchmark score."
   ]
  },
  {
   "cell_type": "code",
   "execution_count": 22,
   "metadata": {
    "collapsed": false
   },
   "outputs": [],
   "source": [
    "df = pd.DataFrame.from_dict(data_dict, orient = 'index')\n",
    "all_features = df.columns.values.tolist()"
   ]
  },
  {
   "cell_type": "code",
   "execution_count": 23,
   "metadata": {
    "collapsed": false
   },
   "outputs": [
    {
     "name": "stdout",
     "output_type": "stream",
     "text": [
      "DecisionTreeClassifier(class_weight=None, criterion='gini', max_depth=None,\n",
      "            max_features=None, max_leaf_nodes=None,\n",
      "            min_impurity_split=1e-07, min_samples_leaf=1,\n",
      "            min_samples_split=2, min_weight_fraction_leaf=0.0,\n",
      "            presort=False, random_state=None, splitter='best')\n",
      "\tAccuracy: 0.83287\tPrecision: 0.37229\tRecall: 0.36950\tF1: 0.37089\tF2: 0.37006\n",
      "\tTotal predictions: 15000\tTrue positives:  739\tFalse positives: 1246\tFalse negatives: 1261\tTrue negatives: 11754\n",
      "\n"
     ]
    }
   ],
   "source": [
    "from benchmark import benchmark_score\n",
    "benchmark_score(data_dict, all_features)"
   ]
  },
  {
   "cell_type": "markdown",
   "metadata": {
    "collapsed": true
   },
   "source": [
    "including the new features defintely improved the score...\n",
    "\n",
    "feature selection method, feature importances from decision tree classifier used on stratified folds of data..."
   ]
  },
  {
   "cell_type": "code",
   "execution_count": 24,
   "metadata": {
    "collapsed": false
   },
   "outputs": [
    {
     "name": "stderr",
     "output_type": "stream",
     "text": [
      "/home/chris/anaconda2/lib/python2.7/site-packages/sklearn/metrics/classification.py:1113: UndefinedMetricWarning: F-score is ill-defined and being set to 0.0 due to no predicted samples.\n",
      "  'precision', 'predicted', average, warn_for)\n"
     ]
    },
    {
     "name": "stdout",
     "output_type": "stream",
     "text": [
      "best features descending: ['exercised_stock_options', 'bonus', 'total_stock_value', u'holiday', 'expenses', 'other', 'restricted_stock', 'salary', 'deferred_income', 'total_payments', 'shared_receipt_with_poi', 'long_term_incentive', 'to_messages', 'from_messages', u'need', u'call', u'budget', u'regard', 'deferral_payments', u'date', u'volume', u'david', u'company', u'response']\n"
     ]
    }
   ],
   "source": [
    "from feature_selector import get_feature_scores\n",
    "names, scores, ordered = get_feature_scores(data_dict)"
   ]
  },
  {
   "cell_type": "code",
   "execution_count": 25,
   "metadata": {
    "collapsed": false
   },
   "outputs": [
    {
     "data": {
      "image/png": "[encoded data removed]",
      "text/plain": [
       "<matplotlib.figure.Figure at 0x7f488cf5a5d0>"
      ]
     },
     "metadata": {},
     "output_type": "display_data"
    }
   ],
   "source": [
    "# plot names with scores\n",
    "import matplotlib.pyplot as plt\n",
    "df_plt = pd.DataFrame()\n",
    "df_plt['name'] = names; df_plt['score'] = scores\n",
    "fig, ax = plt.subplots()\n",
    "fig.set_size_inches(12, 10)\n",
    "sns.barplot(y = \"name\", x = \"score\", data = df_plt,\n",
    "            palette = sns.color_palette(\"Set2\", 10))\n",
    "sns.plt.show()"
   ]
  },
  {
   "cell_type": "markdown",
   "metadata": {},
   "source": [
    "arbitrary cutoff after 0.06, keep\n",
    "- bonus\n",
    "- exercised stock options\n",
    "- expenses\n",
    "- holiday (made use of email data)\n",
    "- other\n",
    "- restricted stock\n",
    "- total stock value\n",
    "\n",
    "score after reducing features..."
   ]
  },
  {
   "cell_type": "code",
   "execution_count": 27,
   "metadata": {
    "collapsed": true
   },
   "outputs": [],
   "source": [
    "reduced_features = ['poi'] + ordered[0:7]"
   ]
  },
  {
   "cell_type": "code",
   "execution_count": 28,
   "metadata": {
    "collapsed": false
   },
   "outputs": [
    {
     "name": "stdout",
     "output_type": "stream",
     "text": [
      "DecisionTreeClassifier(class_weight=None, criterion='gini', max_depth=None,\n",
      "            max_features=None, max_leaf_nodes=None,\n",
      "            min_impurity_split=1e-07, min_samples_leaf=1,\n",
      "            min_samples_split=2, min_weight_fraction_leaf=0.0,\n",
      "            presort=False, random_state=None, splitter='best')\n",
      "\tAccuracy: 0.82307\tPrecision: 0.37948\tRecall: 0.37550\tF1: 0.37748\tF2: 0.37629\n",
      "\tTotal predictions: 14000\tTrue positives:  751\tFalse positives: 1228\tFalse negatives: 1249\tTrue negatives: 10772\n",
      "\n"
     ]
    }
   ],
   "source": [
    "# after reducing features\n",
    "benchmark_score(data_dict, reduced_features)"
   ]
  },
  {
   "cell_type": "markdown",
   "metadata": {},
   "source": [
    "score slightly improved, but pretty much the same.  can say that these features probably capture most importance in differentiating POIs..."
   ]
  },
  {
   "cell_type": "markdown",
   "metadata": {},
   "source": [
    "# restart here"
   ]
  },
  {
   "cell_type": "code",
   "execution_count": 60,
   "metadata": {
    "collapsed": false
   },
   "outputs": [],
   "source": [
    "import sys\n",
    "sys.path.append(\"../tools/\") # path for 'feature_format.py'\n",
    "from feature_format import featureFormat, targetFeatureSplit\n",
    "from tester import dump_classifier_and_data, test_classifier\n",
    "# format for model testing\n",
    "data = featureFormat(data_dict, reduced_features, sort_keys = True)\n",
    "labels, features = targetFeatureSplit(data)"
   ]
  },
  {
   "cell_type": "code",
   "execution_count": 63,
   "metadata": {
    "collapsed": true
   },
   "outputs": [],
   "source": [
    "### Task 4: Try a variety of classifiers\n",
    "### Please name your classifier clf for easy export below.\n",
    "### Note that if you want to do PCA or other multi-stage operations,\n",
    "### you'll need to use Pipelines. For more info:\n",
    "### http://scikit-learn.org/stable/modules/pipeline.html\n",
    "\n",
    "from sklearn.naive_bayes import GaussianNB\n",
    "clf = GaussianNB()\n",
    "from sklearn.ensemble import AdaBoostClassifier\n",
    "#clf = AdaBoostClassifier()\n",
    "from sklearn.neighbors import KNeighborsClassifier\n",
    "#clf = KNeighborsClassifier()\n",
    "\n",
    "### Scaling and PCA\n",
    "from sklearn.pipeline import Pipeline\n",
    "from sklearn.preprocessing import MinMaxScaler, StandardScaler\n",
    "from sklearn.decomposition import PCA\n",
    "\n",
    "estimators = [('scaler', StandardScaler()), ('reducer', PCA()), \\\n",
    "    ('ada', AdaBoostClassifier())]  ## scaling and PCA vastly improve AdaBoost\n",
    "#estimators = [('scaler', MinMaxScaler()), \\\n",
    "    #('knn',  KNeighborsClassifier())] ## KNN requires range scaling\n",
    "\n",
    "\n",
    "### Classifier Selection\n",
    "#clf = GaussianNB()  ## this is the benchmark \n",
    "clf = Pipeline(estimators)"
   ]
  },
  {
   "cell_type": "code",
   "execution_count": 64,
   "metadata": {
    "collapsed": false
   },
   "outputs": [
    {
     "name": "stderr",
     "output_type": "stream",
     "text": [
      "/home/chris/anaconda2/lib/python2.7/site-packages/sklearn/grid_search.py:43: DeprecationWarning: This module was deprecated in version 0.18 in favor of the model_selection module into which all the refactored classes and functions are moved. This module will be removed in 0.20.\n",
      "  DeprecationWarning)\n"
     ]
    },
    {
     "name": "stdout",
     "output_type": "stream",
     "text": [
      "Fitting 10 folds for each of 9 candidates, totalling 90 fits\n"
     ]
    },
    {
     "name": "stderr",
     "output_type": "stream",
     "text": [
      "[Parallel(n_jobs=1)]: Done  90 out of  90 | elapsed:    3.2s finished\n"
     ]
    }
   ],
   "source": [
    "### Parameter Optimization\n",
    "#from sklearn.cross_validation import train_test_split\n",
    "from sklearn.grid_search import GridSearchCV\n",
    "from sklearn.cross_validation import train_test_split, StratifiedShuffleSplit\n",
    "\n",
    "features_train, features_test, labels_train, labels_test = \\\n",
    "    train_test_split(features, labels, test_size=0.3, random_state=42)\n",
    "\n",
    "## standard scaler, pca, adaboost\n",
    "parameters = dict(ada__base_estimator = \\\n",
    "    [DecisionTreeClassifier(), DecisionTreeClassifier(max_depth = 5), \\\n",
    "    DecisionTreeClassifier(max_depth = 8)], \\\n",
    "    ada__learning_rate = [5.0, 10.0, 20.0])\n",
    "## min-max scaler, knn\n",
    "#parameters = dict(knn__n_neighbors = range(1, 6), \\\n",
    "    #knn__weights = ['uniform', 'distance'])\n",
    "\n",
    "sss = StratifiedShuffleSplit(labels_train, random_state = 11)\n",
    "## best cross-validation method for small data set and few POIs\n",
    "clf = GridSearchCV(clf, param_grid = parameters, scoring = 'recall', \\\n",
    "    cv = sss, verbose = 1)  ## maximizing the f1 score, recall results in same\n",
    "\n",
    "## grid fit for best estimator\n",
    "clf.fit(features_train, labels_train)\n",
    "\n",
    "## assign classifier to best estimator\n",
    "clf = clf.best_estimator_\n",
    "#print \"\\nBest parameters: \\n\", clf.get_params()"
   ]
  },
  {
   "cell_type": "code",
   "execution_count": 18,
   "metadata": {
    "collapsed": false
   },
   "outputs": [
    {
     "ename": "TypeError",
     "evalue": "__init__() got multiple values for keyword argument 'test_size'",
     "output_type": "error",
     "traceback": [
      "\u001b[0;31m---------------------------------------------------------------------------\u001b[0m",
      "\u001b[0;31mTypeError\u001b[0m                                 Traceback (most recent call last)",
      "\u001b[0;32m<ipython-input-18-3778d91ab9a1>\u001b[0m in \u001b[0;36m<module>\u001b[0;34m()\u001b[0m\n\u001b[1;32m     20\u001b[0m \u001b[0;34m\u001b[0m\u001b[0m\n\u001b[1;32m     21\u001b[0m \u001b[0mfolds\u001b[0m \u001b[0;34m=\u001b[0m \u001b[0;36m200\u001b[0m\u001b[0;34m\u001b[0m\u001b[0m\n\u001b[0;32m---> 22\u001b[0;31m \u001b[0msss\u001b[0m \u001b[0;34m=\u001b[0m \u001b[0mStratifiedShuffleSplit\u001b[0m\u001b[0;34m(\u001b[0m\u001b[0mlabels\u001b[0m\u001b[0;34m,\u001b[0m \u001b[0mfolds\u001b[0m\u001b[0;34m,\u001b[0m \u001b[0mtest_size\u001b[0m \u001b[0;34m=\u001b[0m \u001b[0;36m0.3\u001b[0m\u001b[0;34m,\u001b[0m \u001b[0mrandom_state\u001b[0m \u001b[0;34m=\u001b[0m \u001b[0;36m11\u001b[0m\u001b[0;34m)\u001b[0m\u001b[0;34m\u001b[0m\u001b[0m\n\u001b[0m\u001b[1;32m     23\u001b[0m \u001b[0;34m\u001b[0m\u001b[0m\n\u001b[1;32m     24\u001b[0m \u001b[0;32mfor\u001b[0m \u001b[0mtrain_idx\u001b[0m\u001b[0;34m,\u001b[0m \u001b[0mtest_idx\u001b[0m \u001b[0;32min\u001b[0m \u001b[0msss\u001b[0m\u001b[0;34m:\u001b[0m\u001b[0;34m\u001b[0m\u001b[0m\n",
      "\u001b[0;31mTypeError\u001b[0m: __init__() got multiple values for keyword argument 'test_size'"
     ]
    }
   ],
   "source": [
    "### Task 5: Tune your classifier to achieve better than .3 precision and recall \n",
    "### using our testing script. Check the tester.py script in the final project\n",
    "### folder for details on the evaluation method, especially the test_classifier\n",
    "### function. Because of the small size of the dataset, the script uses\n",
    "### stratified shuffle split cross validation. For more info: \n",
    "### http://scikit-learn.org/stable/modules/generated/sklearn.cross_validation.StratifiedShuffleSplit.html\n",
    "\n",
    "from sklearn.model_selection import StratifiedShuffleSplit \n",
    "### Evaluation Metrics\n",
    "from sklearn.metrics import \\\n",
    "    accuracy_score, precision_score, recall_score, f1_score\n",
    "\n",
    "## convert features and labels to arrays\n",
    "#print type(labels), type(features)\n",
    "features = np.asarray(features)\n",
    "labels = np.asarray(labels)\n",
    "\n",
    "## lists of metrics\n",
    "accuracy = []\n",
    "precision = []\n",
    "recall = []\n",
    "f_one = []\n",
    "\n",
    "## or for classification report\n",
    "total_labels = np.array([])\n",
    "total_preds = np.array([])\n",
    "\n",
    "folds = 200\n",
    "sss = StratifiedShuffleSplit(labels, folds, test_size = 0.3, random_state = 11)\n",
    "\n",
    "for train_idx, test_idx in sss:\n",
    "    features_train, labels_train = features[train_idx], labels[train_idx]\n",
    "    features_test, labels_test = features[test_idx], labels[test_idx]\n",
    "    \n",
    "    clf.fit(features_train, labels_train)\n",
    "    pred = clf.predict(features_test)\n",
    "    #pred = clf.fit_predict(features) ## k-means\n",
    "    \n",
    "    #acc = clf.score(features_test, labels_test)\n",
    "    acc = accuracy_score(labels_test, pred)\n",
    "    pre = precision_score(labels_test, pred)\n",
    "    rec = recall_score(labels_test, pred)\n",
    "    f1 = f1_score(labels_test, pred)\n",
    "    \n",
    "    accuracy.append(acc)\n",
    "    precision.append(pre)\n",
    "    recall.append(rec)\n",
    "    f_one.append(f1)\n",
    "    \n",
    "    total_labels = np.concatenate((total_labels, labels_test))\n",
    "    total_preds = np.concatenate((total_preds, pred))\n",
    "\n",
    "## not quite the same as tester.py\n",
    "print \"\\nAccuracy: \", sum(accuracy)/folds, \"\\nPrecision: \", \\\n",
    "    sum(precision)/folds, \"\\nRecall: \", sum(recall)/folds, \\\n",
    "    \"\\nF1-Score: \", sum(f_one)/folds"
   ]
  },
  {
   "cell_type": "code",
   "execution_count": 20,
   "metadata": {
    "collapsed": false
   },
   "outputs": [
    {
     "name": "stdout",
     "output_type": "stream",
     "text": [
      "\n",
      "             precision    recall  f1-score   support\n",
      "\n",
      "    non-POI       0.92      0.91      0.92      6800\n",
      "        POI       0.45      0.48      0.46      1000\n",
      "\n",
      "avg / total       0.86      0.86      0.86      7800\n",
      "\n"
     ]
    }
   ],
   "source": [
    "## using sklearn\n",
    "from sklearn.metrics import classification_report\n",
    "## precision, recall, f1-score, and support (number of occurrences in test set)\n",
    "print \"\\n\", classification_report(total_labels, total_preds, \\\n",
    "    target_names=['non-POI', 'POI']) ## these scores appear to be less accurate"
   ]
  },
  {
   "cell_type": "code",
   "execution_count": 65,
   "metadata": {
    "collapsed": false
   },
   "outputs": [],
   "source": [
    "### Task 6: Dump your classifier, dataset, and features_list so anyone can\n",
    "### check your results. You do not need to change anything below, but make sure\n",
    "### that the version of poi_id.py that you submit can be run on its own and\n",
    "### generates the necessary .pkl files for validating your results.\n",
    "\n",
    "dump_classifier_and_data(clf, data_dict, features_list)"
   ]
  },
  {
   "cell_type": "markdown",
   "metadata": {},
   "source": [
    "\n",
    "Using additional script for better evaluation metrics...\n"
   ]
  },
  {
   "cell_type": "code",
   "execution_count": 23,
   "metadata": {
    "collapsed": true
   },
   "outputs": [],
   "source": [
    "import pickle\n",
    "import sys\n",
    "from sklearn.cross_validation import StratifiedShuffleSplit\n",
    "sys.path.append(\"../tools/\") # DIFFERENT GITHUB PATH HERE\n",
    "from feature_format import featureFormat, targetFeatureSplit\n",
    "\n",
    "PERF_FORMAT_STRING = \"\\\n",
    "\\tAccuracy: {:>0.{display_precision}f}\\tPrecision: {:>0.{display_precision}f}\\t\\\n",
    "Recall: {:>0.{display_precision}f}\\tF1: {:>0.{display_precision}f}\\tF2: {:>0.{display_precision}f}\"\n",
    "RESULTS_FORMAT_STRING = \"\\tTotal predictions: {:4d}\\tTrue positives: {:4d}\\tFalse positives: {:4d}\\tFalse negatives: {:4d}\\tTrue negatives: {:4d}\"\n",
    "\n",
    "def test_classifier(clf, dataset, feature_list, folds = 1000):\n",
    "    data = featureFormat(dataset, feature_list, sort_keys = True)\n",
    "    labels, features = targetFeatureSplit(data)\n",
    "    cv = StratifiedShuffleSplit(labels, folds, random_state = 42)\n",
    "    true_negatives = 0\n",
    "    false_negatives = 0\n",
    "    true_positives = 0\n",
    "    false_positives = 0\n",
    "    for train_idx, test_idx in cv: \n",
    "        features_train = []\n",
    "        features_test  = []\n",
    "        labels_train   = []\n",
    "        labels_test    = []\n",
    "        for ii in train_idx:\n",
    "            features_train.append( features[ii] )\n",
    "            labels_train.append( labels[ii] )\n",
    "        for jj in test_idx:\n",
    "            features_test.append( features[jj] )\n",
    "            labels_test.append( labels[jj] )\n",
    "        \n",
    "        ### fit the classifier using training set, and test on test set\n",
    "        clf.fit(features_train, labels_train)\n",
    "        predictions = clf.predict(features_test)\n",
    "        for prediction, truth in zip(predictions, labels_test):\n",
    "            if prediction == 0 and truth == 0:\n",
    "                true_negatives += 1\n",
    "            elif prediction == 0 and truth == 1:\n",
    "                false_negatives += 1\n",
    "            elif prediction == 1 and truth == 0:\n",
    "                false_positives += 1\n",
    "            elif prediction == 1 and truth == 1:\n",
    "                true_positives += 1\n",
    "            else:\n",
    "                print \"Warning: Found a predicted label not == 0 or 1.\"\n",
    "                print \"All predictions should take value 0 or 1.\"\n",
    "                print \"Evaluating performance for processed predictions:\"\n",
    "                break\n",
    "    try:\n",
    "        total_predictions = true_negatives + false_negatives + false_positives + true_positives\n",
    "        accuracy = 1.0*(true_positives + true_negatives)/total_predictions\n",
    "        precision = 1.0*true_positives/(true_positives+false_positives)\n",
    "        recall = 1.0*true_positives/(true_positives+false_negatives)\n",
    "        f1 = 2.0 * true_positives/(2*true_positives + false_positives+false_negatives)\n",
    "        f2 = (1+2.0*2.0) * precision*recall/(4*precision + recall)\n",
    "        print clf\n",
    "        print PERF_FORMAT_STRING.format(accuracy, precision, recall, f1, f2, display_precision = 5)\n",
    "        print RESULTS_FORMAT_STRING.format(total_predictions, true_positives, false_positives, false_negatives, true_negatives)\n",
    "        print \"\"\n",
    "    except:\n",
    "        print \"Got a divide by zero when trying out:\", clf\n",
    "        print \"Precision or recall may be undefined due to a lack of true positive predicitons.\"\n",
    "\n",
    "CLF_PICKLE_FILENAME = \"my_classifier.pkl\"\n",
    "DATASET_PICKLE_FILENAME = \"my_dataset.pkl\"\n",
    "FEATURE_LIST_FILENAME = \"my_feature_list.pkl\"\n",
    "\n",
    "def dump_classifier_and_data(clf, dataset, feature_list):\n",
    "    pickle.dump(clf, open(CLF_PICKLE_FILENAME, \"w\") )\n",
    "    pickle.dump(dataset, open(DATASET_PICKLE_FILENAME, \"w\") )\n",
    "    pickle.dump(feature_list, open(FEATURE_LIST_FILENAME, \"w\") )\n",
    "\n",
    "def load_classifier_and_data():\n",
    "    clf = pickle.load(open(CLF_PICKLE_FILENAME, \"r\") )\n",
    "    dataset = pickle.load(open(DATASET_PICKLE_FILENAME, \"r\") )\n",
    "    feature_list = pickle.load(open(FEATURE_LIST_FILENAME, \"r\"))\n",
    "    return clf, dataset, feature_list\n",
    "\n",
    "def main():\n",
    "    ### load up student's classifier, dataset, and feature_list\n",
    "    clf, dataset, feature_list = load_classifier_and_data()\n",
    "    ### Run testing script\n",
    "    test_classifier(clf, dataset, feature_list)"
   ]
  },
  {
   "cell_type": "code",
   "execution_count": 24,
   "metadata": {
    "collapsed": false
   },
   "outputs": [
    {
     "name": "stdout",
     "output_type": "stream",
     "text": [
      "Pipeline(steps=[('scaler', StandardScaler(copy=True, with_mean=True, with_std=True)), ('reducer', PCA(copy=True, n_components=None, whiten=False)), ('ada', AdaBoostClassifier(algorithm='SAMME.R',\n",
      "          base_estimator=DecisionTreeClassifier(class_weight=None, criterion='gini', max_depth=None,\n",
      "            ...dom_state=None, splitter='best'),\n",
      "          learning_rate=5.0, n_estimators=50, random_state=None))])\n",
      "\tAccuracy: 0.84869\tPrecision: 0.50833\tRecall: 0.50350\tF1: 0.50590\tF2: 0.50446\n",
      "\tTotal predictions: 13000\tTrue positives: 1007\tFalse positives:  974\tFalse negatives:  993\tTrue negatives: 10026\n",
      "\n"
     ]
    }
   ],
   "source": [
    "main()"
   ]
  },
  {
   "cell_type": "code",
   "execution_count": null,
   "metadata": {
    "collapsed": true
   },
   "outputs": [],
   "source": []
  }
 ],
 "metadata": {
  "kernelspec": {
   "display_name": "Python 2",
   "language": "python",
   "name": "python2"
  },
  "language_info": {
   "codemirror_mode": {
    "name": "ipython",
    "version": 2
   },
   "file_extension": ".py",
   "mimetype": "text/x-python",
   "name": "python",
   "nbconvert_exporter": "python",
   "pygments_lexer": "ipython2",
   "version": "2.7.13"
  }
 },
 "nbformat": 4,
 "nbformat_minor": 0
}
