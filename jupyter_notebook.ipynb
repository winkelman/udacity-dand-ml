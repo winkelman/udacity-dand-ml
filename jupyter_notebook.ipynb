{
 "cells": [
  {
   "cell_type": "code",
   "execution_count": 2,
   "metadata": {
    "collapsed": false
   },
   "outputs": [
    {
     "name": "stdout",
     "output_type": "stream",
     "text": [
      "\n",
      "\n",
      "Data Inspection:\n",
      "\n",
      "<class 'pandas.core.frame.DataFrame'>\n",
      "Index: 146 entries, ALLEN PHILLIP K to YEAP SOON\n",
      "Data columns (total 21 columns):\n",
      "salary                       95 non-null float64\n",
      "to_messages                  86 non-null float64\n",
      "deferral_payments            39 non-null float64\n",
      "total_payments               125 non-null float64\n",
      "exercised_stock_options      102 non-null float64\n",
      "bonus                        82 non-null float64\n",
      "restricted_stock             110 non-null float64\n",
      "shared_receipt_with_poi      86 non-null float64\n",
      "restricted_stock_deferred    18 non-null float64\n",
      "total_stock_value            126 non-null float64\n",
      "expenses                     95 non-null float64\n",
      "loan_advances                4 non-null float64\n",
      "from_messages                86 non-null float64\n",
      "other                        93 non-null float64\n",
      "from_this_person_to_poi      86 non-null float64\n",
      "poi                          146 non-null bool\n",
      "director_fees                17 non-null float64\n",
      "deferred_income              49 non-null float64\n",
      "long_term_incentive          66 non-null float64\n",
      "email_address                111 non-null object\n",
      "from_poi_to_this_person      86 non-null float64\n",
      "dtypes: bool(1), float64(19), object(1)\n",
      "memory usage: 23.0+ KB\n",
      "None\n"
     ]
    }
   ],
   "source": [
    "#!/usr/bin/python\n",
    "# -*- coding: utf-8 -*-\n",
    "\n",
    "import sys\n",
    "import pickle\n",
    "sys.path.append(\"../tools/\") # DIFFERENT GITHUB PATH HERE\n",
    "\n",
    "from feature_format import featureFormat, targetFeatureSplit\n",
    "from tester import dump_classifier_and_data\n",
    "\n",
    "\n",
    "\n",
    "\n",
    "\n",
    "\n",
    "\n",
    "### Task 1: Preliminary Feature Selection\n",
    "\n",
    "financial_features = ['salary', 'deferral_payments', 'total_payments',\n",
    "'loan_advances', 'bonus', 'restricted_stock_deferred', 'deferred_income',\n",
    "'total_stock_value', 'expenses', 'exercised_stock_options', 'other',\n",
    "'long_term_incentive', 'restricted_stock', 'director_fees']\n",
    "## all units are in US dollars\n",
    "\n",
    "email_features = ['to_messages', 'from_poi_to_this_person', 'email_address',\n",
    "'from_messages', 'from_this_person_to_poi', 'shared_receipt_with_poi']\n",
    "## units are number of email messages, 'email_address' is a string\n",
    "\n",
    "poi_label = ['poi'] ## boolean\n",
    "\n",
    "email_features.remove('email_address') ## not numerical\n",
    "\n",
    "## features_list is a list of strings, the first feature must be \"poi\".\n",
    "features_list = poi_label + financial_features #+ email_features\n",
    "## email_features excluded because of data leakage\n",
    "\n",
    "\n",
    "### Load the dictionary containing the dataset\n",
    "data_dict = pickle.load(open(\"final_project_dataset.pkl\", \"r\") )\n",
    "\n",
    "\n",
    "\n",
    "\n",
    "\n",
    "\n",
    "\n",
    "\n",
    "### Task 2: Data Exploration and Outlier Removal (not enough data for 10% rule)\n",
    "\n",
    "### Create Pandas Dataframe\n",
    "import pandas as pd\n",
    "import numpy as np\n",
    "df = pd.DataFrame.from_dict(data_dict, orient = 'index')\n",
    "#print df.isnull().any() ## our NaN values are actually strings\n",
    "## we can replace string NaNs with 0 or real NaN\n",
    "#df = df.replace('NaN', 0)\n",
    "df = df.replace('NaN', np.nan) ## np.nan works better for summary and plotting\n",
    "\n",
    "\n",
    "### Data Summary\n",
    "print \"\\n\\nData Inspection:\\n\\n\", df.info()"
   ]
  },
  {
   "cell_type": "code",
   "execution_count": 3,
   "metadata": {
    "collapsed": false
   },
   "outputs": [
    {
     "name": "stdout",
     "output_type": "stream",
     "text": [
      "\n",
      "\n",
      "\n",
      "Data Summary:\n",
      "\n",
      "                salary   to_messages  deferral_payments  total_payments  \\\n",
      "count        95.000000     86.000000          39.000000    1.250000e+02   \n",
      "mean     562194.294737   2073.860465     1642674.153846    5.081526e+06   \n",
      "std     2716369.154553   2582.700981     5161929.973575    2.906172e+07   \n",
      "min         477.000000     57.000000     -102500.000000    1.480000e+02   \n",
      "25%      211816.000000    541.250000       81573.000000    3.944750e+05   \n",
      "50%      259996.000000   1211.000000      227449.000000    1.101393e+06   \n",
      "75%      312117.000000   2634.750000     1002671.500000    2.093263e+06   \n",
      "max    26704229.000000  15149.000000    32083396.000000    3.098866e+08   \n",
      "\n",
      "       exercised_stock_options            bonus  restricted_stock  \\\n",
      "count             1.020000e+02        82.000000      1.100000e+02   \n",
      "mean              5.987054e+06   2374234.609756      2.321741e+06   \n",
      "std               3.106201e+07  10713327.969046      1.251828e+07   \n",
      "min               3.285000e+03     70000.000000     -2.604490e+06   \n",
      "25%               5.278862e+05    431250.000000      2.540180e+05   \n",
      "50%               1.310814e+06    769375.000000      4.517400e+05   \n",
      "75%               2.547724e+06   1200000.000000      1.002370e+06   \n",
      "max               3.117640e+08  97343619.000000      1.303223e+08   \n",
      "\n",
      "       shared_receipt_with_poi  restricted_stock_deferred  total_stock_value  \\\n",
      "count                86.000000                  18.000000       1.260000e+02   \n",
      "mean               1176.465116              166410.555556       6.773957e+06   \n",
      "std                1178.317641             4201494.314703       3.895777e+07   \n",
      "min                   2.000000            -7576788.000000      -4.409300e+04   \n",
      "25%                 249.750000             -389621.750000       4.945102e+05   \n",
      "50%                 740.500000             -146975.000000       1.102872e+06   \n",
      "75%                1888.250000              -75009.750000       2.949847e+06   \n",
      "max                5521.000000            15456290.000000       4.345095e+08   \n",
      "\n",
      "             expenses  loan_advances  from_messages            other  \\\n",
      "count       95.000000         4.0000      86.000000        93.000000   \n",
      "mean    108728.915789  41962500.0000     608.790698    919064.967742   \n",
      "std     533534.814109  47083208.7019    1841.033949   4589252.907638   \n",
      "min        148.000000    400000.0000      12.000000         2.000000   \n",
      "25%      22614.000000   1600000.0000      22.750000      1215.000000   \n",
      "50%      46950.000000  41762500.0000      41.000000     52382.000000   \n",
      "75%      79952.500000  82125000.0000     145.500000    362096.000000   \n",
      "max    5235198.000000  83925000.0000   14368.000000  42667589.000000   \n",
      "\n",
      "       from_this_person_to_poi       poi   director_fees  deferred_income  \\\n",
      "count                86.000000       146       17.000000        49.000000   \n",
      "mean                 41.232558  0.123288   166804.882353  -1140475.142857   \n",
      "std                 100.073111  0.329899   319891.409747   4025406.378506   \n",
      "min                   0.000000     False     3285.000000 -27992891.000000   \n",
      "25%                   1.000000         0    98784.000000   -694862.000000   \n",
      "50%                   8.000000         0   108579.000000   -159792.000000   \n",
      "75%                  24.750000         0   113784.000000    -38346.000000   \n",
      "max                 609.000000      True  1398517.000000      -833.000000   \n",
      "\n",
      "       long_term_incentive  from_poi_to_this_person  \n",
      "count            66.000000                86.000000  \n",
      "mean        1470361.454545                64.895349  \n",
      "std         5942759.315498                86.979244  \n",
      "min           69223.000000                 0.000000  \n",
      "25%          281250.000000                10.000000  \n",
      "50%          442035.000000                35.000000  \n",
      "75%          938672.000000                72.250000  \n",
      "max        48521928.000000               528.000000  \n"
     ]
    }
   ],
   "source": [
    "print \"\\n\\n\\nData Summary:\\n\\n\", df.describe()"
   ]
  },
  {
   "cell_type": "code",
   "execution_count": 4,
   "metadata": {
    "collapsed": false
   },
   "outputs": [
    {
     "name": "stdout",
     "output_type": "stream",
     "text": [
      "\n",
      "\n",
      "\n",
      "POI Data Inspection:\n",
      "\n",
      "<class 'pandas.core.frame.DataFrame'>\n",
      "Index: 18 entries, BELDEN TIMOTHY N to YEAGER F SCOTT\n",
      "Data columns (total 21 columns):\n",
      "salary                       17 non-null float64\n",
      "to_messages                  14 non-null float64\n",
      "deferral_payments            5 non-null float64\n",
      "total_payments               18 non-null float64\n",
      "exercised_stock_options      12 non-null float64\n",
      "bonus                        16 non-null float64\n",
      "restricted_stock             17 non-null float64\n",
      "shared_receipt_with_poi      14 non-null float64\n",
      "restricted_stock_deferred    0 non-null float64\n",
      "total_stock_value            18 non-null float64\n",
      "expenses                     18 non-null float64\n",
      "loan_advances                1 non-null float64\n",
      "from_messages                14 non-null float64\n",
      "other                        18 non-null float64\n",
      "from_this_person_to_poi      14 non-null float64\n",
      "poi                          18 non-null bool\n",
      "director_fees                0 non-null float64\n",
      "deferred_income              11 non-null float64\n",
      "long_term_incentive          12 non-null float64\n",
      "email_address                18 non-null object\n",
      "from_poi_to_this_person      14 non-null float64\n",
      "dtypes: bool(1), float64(19), object(1)\n",
      "memory usage: 2.8+ KB\n",
      "None\n"
     ]
    }
   ],
   "source": [
    "## non-null counts for POIs\n",
    "print \"\\n\\n\\nPOI Data Inspection:\\n\\n\", df[df.poi == True].info()"
   ]
  },
  {
   "cell_type": "code",
   "execution_count": 5,
   "metadata": {
    "collapsed": false
   },
   "outputs": [
    {
     "name": "stdout",
     "output_type": "stream",
     "text": [
      "\n",
      "\n",
      "First outlier removed is: 'THE TRAVEL AGENCY IN THE PARK'\n"
     ]
    }
   ],
   "source": [
    "### Visual Inspection/Removal of Outliers\n",
    "\n",
    "## from looking at the enron insiderpay.pdf file\n",
    "print \"\\n\\nFirst outlier removed is: 'THE TRAVEL AGENCY IN THE PARK'\"\n",
    "df = df.drop('THE TRAVEL AGENCY IN THE PARK')\n",
    "#data_dict.pop('THE TRAVEL AGENCY IN THE PARK') ## can convert to dict later"
   ]
  },
  {
   "cell_type": "code",
   "execution_count": 6,
   "metadata": {
    "collapsed": false
   },
   "outputs": [
    {
     "data": {
      "image/png": "[encoded data removed]",
      "text/plain": [
       "<matplotlib.figure.Figure at 0x12eb6890>"
      ]
     },
     "metadata": {},
     "output_type": "display_data"
    }
   ],
   "source": [
    "import seaborn as sns\n",
    "%matplotlib inline\n",
    "## if NaN strings are kept, need to create a new df that screens these values\n",
    "#df_plt = df[(df.total_payments != \"NaN\") & (df.total_stock_value != \"NaN\")]\n",
    "\n",
    "## pair plot below would be ideal (incorrect syntax) to detect outliers...\n",
    "#sns.pairplot(df, x_vars=['total_stock_value', 'total_payments'], y_vars= \\\n",
    "    #['total_stock_value', 'total_payments'], kind=\"scatter\", dropna=True)\n",
    "## instead of pair plot (cannot render), using 'total_payments' and\n",
    "## 'total_stock_value' features to detect outliers\n",
    "sns.jointplot(x=\"total_payments\", y=\"total_stock_value\", data=df, dropna=True)\n",
    "sns.plt.show()"
   ]
  },
  {
   "cell_type": "code",
   "execution_count": 7,
   "metadata": {
    "collapsed": false
   },
   "outputs": [
    {
     "name": "stdout",
     "output_type": "stream",
     "text": [
      "\n",
      "Second outlier removed is: TOTAL\n"
     ]
    }
   ],
   "source": [
    "## the plot shows one clear outlier which we also found in lesson 7, 'TOTAL'\n",
    "out2name = df['total_payments'].idxmax()\n",
    "print \"\\nSecond outlier removed is:\", out2name \n",
    "df = df.drop('TOTAL')\n",
    "#data_dict.pop('TOTAL') ## again, not necessary here"
   ]
  },
  {
   "cell_type": "code",
   "execution_count": 8,
   "metadata": {
    "collapsed": false
   },
   "outputs": [
    {
     "data": {
      "image/png": "[encoded data removed]",
      "text/plain": [
       "<matplotlib.figure.Figure at 0x5bd6bb0>"
      ]
     },
     "metadata": {},
     "output_type": "display_data"
    }
   ],
   "source": [
    "## check if any more outliers\n",
    "sns.jointplot(x=\"total_payments\", y=\"total_stock_value\", data=df, dropna=True)\n",
    "sns.plt.show()  ## one more clear outlier"
   ]
  },
  {
   "cell_type": "code",
   "execution_count": 9,
   "metadata": {
    "collapsed": false
   },
   "outputs": [
    {
     "name": "stdout",
     "output_type": "stream",
     "text": [
      "\n",
      "Third outlier NOT removed is: LAY KENNETH L\n"
     ]
    }
   ],
   "source": [
    "## second outlier, 'LAY KENNETH L'\n",
    "out3name = df['total_payments'].idxmax()\n",
    "print \"\\nThird outlier NOT removed is:\", out3name\n",
    "#data_dict.pop(out3name) ## again, not necessary here\n",
    "#df = df.drop(out3name) ## we have too few POIs/data to remove this anyway"
   ]
  },
  {
   "cell_type": "code",
   "execution_count": 10,
   "metadata": {
    "collapsed": false
   },
   "outputs": [
    {
     "name": "stdout",
     "output_type": "stream",
     "text": [
      "\n",
      "Fourth person removed with no data: ['LOCKHART EUGENE E']\n"
     ]
    }
   ],
   "source": [
    "## remove people(s) with no financial data\n",
    "no_data = df[df[financial_features].isnull().all(axis = 1)].index.values\n",
    "print \"\\nFourth person removed with no data:\", no_data\n",
    "df = df.drop(no_data)"
   ]
  },
  {
   "cell_type": "code",
   "execution_count": 11,
   "metadata": {
    "collapsed": false
   },
   "outputs": [
    {
     "name": "stdout",
     "output_type": "stream",
     "text": [
      "\n",
      "100 total people in the TRAINING set with 13.0 POIs at 13.0 percent.\n",
      "43 total people in the TEST set with 5.0 POIs at 11.6279069767 percent.\n"
     ]
    }
   ],
   "source": [
    "## this would remove all people with no total payments and no total stock value\n",
    "#no_data = df[np.isnan(df.total_payments) & \\\n",
    "    #np.isnan(df.total_stock_value)].index.values.tolist()\n",
    "#print \"\\nPeople with no data removed from dataset: \", no_data, \"\\n\"\n",
    "#for person in no_data:\n",
    "#    df = df.drop(person)\n",
    "#    #data_dict.pop(person)\n",
    "\n",
    "\n",
    "### Convert DataFrame Back to Dictionary\n",
    "df = df.replace(np.nan, 'NaN') ## convert np.nan back to 'NaN' for Task 3\n",
    "#data_dict = df.to_dict(orient = 'index') ## doesn't work, 'index' deprecated?\n",
    "df = df.transpose()\n",
    "data_dict = df.to_dict()\n",
    "\n",
    "\n",
    "### Inspect Test/Train Split\n",
    "data = featureFormat(data_dict, features_list, sort_keys = True)\n",
    "labels, features = targetFeatureSplit(data)\n",
    "from sklearn.cross_validation import train_test_split\n",
    "features_train, features_test, labels_train, labels_test = \\\n",
    "    train_test_split(features, labels, test_size=0.3, random_state=42)\n",
    "print \"\\n\", len(labels_train), \"total people in the TRAINING set with\", \\\n",
    "    sum(labels_train), \"POIs at\", 100.0*sum(labels_train)/len(labels_train), \\\n",
    "    \"percent.\"\n",
    "print len(labels_test), \"total people in the TEST set with\", \\\n",
    "    sum(labels_test), \"POIs at\", 100.0*sum(labels_test)/len(labels_test), \\\n",
    "    \"percent.\""
   ]
  },
  {
   "cell_type": "code",
   "execution_count": 12,
   "metadata": {
    "collapsed": false
   },
   "outputs": [
    {
     "name": "stdout",
     "output_type": "stream",
     "text": [
      "\n",
      "\n",
      "\n",
      "Top 8 features with most data: ['total_stock_value', 'total_payments', 'restricted_stock', 'expenses', 'other', 'salary', 'bonus', 'exercised_stock_options']\n",
      "\n",
      "Excluding these features because of limited data: ['deferral_payments', 'loan_advances', 'restricted_stock_deferred', 'deferred_income', 'long_term_incentive', 'director_fees']\n",
      "\n",
      "Removed 1 additional person with no data in new features: POWERS WILLIAM \n",
      "\n",
      "\n",
      "\n"
     ]
    }
   ],
   "source": [
    "### Task 3: Feature Engineering and Feature Selection\n",
    "\n",
    "### Prune Financial Features based upon Data Exploration\n",
    "\n",
    "df = df.transpose()[features_list] ## same df from the outlier removal section\n",
    "df = df.replace('NaN', np.nan)\n",
    "\n",
    "## creating list of important features by number of non-null values\n",
    "feature_data = []\n",
    "alpha = 1.0* sum(df.poi != True) / sum(df.poi == True)\n",
    "## weighting POIs by their proportion in the data set\n",
    "\n",
    "for ftr in list(df.columns.values):\n",
    "    if ftr not in ['poi']:\n",
    "        n_poi = sum( df[df.poi == True][ftr].notnull() )\n",
    "        n_non_poi = sum( df[df.poi != True][ftr].notnull() )\n",
    "        feature_data.append([ftr, (alpha*n_poi + n_non_poi)])\n",
    "        \n",
    "feature_data = sorted(feature_data, key=lambda x: x[1], reverse = True)\n",
    "new_features = [ftr[0] for ftr in feature_data[0:8]] ## top 8\n",
    "features_list = ['poi'] + new_features ## take top 8 and add back POI\n",
    "\n",
    "## remove new people with no data in updated features\n",
    "no_data = df[df[new_features].isnull().all(axis = 1)].index.values\n",
    "no_data = ''.join(no_data) ## only 1\n",
    "data_dict.pop(no_data)\n",
    "    \n",
    "print \"\\n\\n\\nTop 8 features with most data:\", new_features\n",
    "## exclude POI in the printed list\n",
    "print \"\\nExcluding these features because of limited data:\", \\\n",
    "    [ftr for ftr in list(df.columns.values) if ftr not in features_list]\n",
    "print \"\\nRemoved 1 additional person with no data in new features:\", \\\n",
    "    no_data, \"\\n\\n\\n\""
   ]
  },
  {
   "cell_type": "code",
   "execution_count": 13,
   "metadata": {
    "collapsed": false
   },
   "outputs": [
    {
     "name": "stdout",
     "output_type": "stream",
     "text": [
      "Processing emails...\n",
      "\n"
     ]
    }
   ],
   "source": [
    "### Creating Suspicious Words Features\n",
    "\n",
    "## adding email text data for each person\n",
    "from add_email_words import add_words\n",
    "## adds all email text as a string for each person in data_dict[person]['words']\n",
    "print \"Processing emails...\\n\"\n",
    "data_dict = add_words(data_dict, all=False, n=100)\n",
    "## 'all' to process entire corpus, n is number of emails/person, default is 30"
   ]
  },
  {
   "cell_type": "code",
   "execution_count": 14,
   "metadata": {
    "collapsed": false
   },
   "outputs": [
    {
     "name": "stdout",
     "output_type": "stream",
     "text": [
      "\n",
      "Getting important words...\n",
      "\n",
      "Accuracy of word-based DT classifier on test data is:  0.813953488372\n",
      "\n",
      "Number of important/suspicious words:  1\n",
      "\n",
      "Suspicious words are: [u'blown', u'boardroom']\n"
     ]
    }
   ],
   "source": [
    "## getting list of suspicious words\n",
    "from get_important_words import get_words\n",
    "print \"\\nGetting important words...\"\n",
    "impt_words = get_words(data_dict)\n",
    "## add 1 important word manually, the DT classifier doesn't always find it...\n",
    "if u'boardroom' not in impt_words:\n",
    "    impt_words.append(u'boardroom')\n",
    "    \n",
    "print \"\\nSuspicious words are:\", impt_words"
   ]
  },
  {
   "cell_type": "code",
   "execution_count": 15,
   "metadata": {
    "collapsed": false
   },
   "outputs": [
    {
     "name": "stdout",
     "output_type": "stream",
     "text": [
      "\n",
      "Adding suspicious word counts...\n"
     ]
    }
   ],
   "source": [
    "## add count of suspicious words in data_dict[person]['suspicious_word_here']\n",
    "from add_word_count import add_count\n",
    "print \"\\nAdding suspicious word counts...\"\n",
    "data_dict = add_count(data_dict, impt_words)\n",
    "\n",
    "## removing 'word' feature from data_dict, no longer needed\n",
    "for person in data_dict:\n",
    "    data_dict[person].pop(\"words\")\n",
    "\n",
    "## rename\n",
    "word_features = impt_words\n",
    "\n",
    "## add to word features to feature list\n",
    "features_list += word_features"
   ]
  },
  {
   "cell_type": "code",
   "execution_count": 16,
   "metadata": {
    "collapsed": false
   },
   "outputs": [
    {
     "name": "stdout",
     "output_type": "stream",
     "text": [
      "\n",
      "\n",
      "\n",
      "Getting best features...\n",
      "\n",
      "Feature correlations with target POI:  [['exercised_stock_options', 0.38614172371941746], [u'boardroom', 0.38559182454491342], ['total_stock_value', 0.3818527898289249], ['bonus', 0.35757485375792092], ['salary', 0.33755743852073739], [u'blown', 0.28549606996586574], ['restricted_stock', 0.24678144023781862], ['total_payments', 0.24151254577240416], ['expenses', 0.20198329579911534], ['other', 0.16925452471513738]]\n",
      "Best features from univariate pearson correlation analysis (low to high):  [(1, u'blown'), (2, 'salary'), (3, 'bonus'), (4, 'total_stock_value'), (5, u'boardroom'), (6, 'exercised_stock_options')]\n",
      "Worst features with less than 0.25 linear correlation with POI:  ['restricted_stock', 'total_payments', 'expenses', 'other']\n",
      "\n",
      "Correlation between feature pairs:  [['exercised_stock_options', u'boardroom', -0.040840763308241608], ['exercised_stock_options', u'blown', -0.040649811954048223], ['total_stock_value', u'blown', -0.030157916098639534], [u'boardroom', 'total_stock_value', -0.019832017721190674], [u'boardroom', 'bonus', 0.01361992218054788], ['bonus', u'blown', 0.063800642428899296], ['salary', u'blown', 0.093430305239530581], [u'boardroom', 'salary', 0.10222329454187827], [u'boardroom', u'blown', 0.38194691527737112], ['exercised_stock_options', 'bonus', 0.41483790915557073], ['exercised_stock_options', 'salary', 0.4475465088371462], ['total_stock_value', 'bonus', 0.45965949769843012], ['total_stock_value', 'salary', 0.51987142932127184], ['bonus', 'salary', 0.64777527118721279], ['exercised_stock_options', 'total_stock_value', 0.9638265463600324]]\n",
      "Suggested features to remove due to high correlation:  ['total_stock_value']\n",
      "\n",
      "Best features from recursive features selection (low to high):  [(1, u'blown'), (2, 'exercised_stock_options'), (3, 'salary'), (4, 'expenses'), (5, 'restricted_stock'), (6, 'total_stock_value')]\n",
      "\n",
      "Best features from tree-based classifiers (low to high):  [(1, u'blown'), (2, 'expenses'), (3, 'other'), (4, 'total_payments'), (5, u'boardroom'), (6, 'bonus')]\n",
      "\n",
      "Total rank of all features from all selection methods:  [('total_stock_value', 10), (u'boardroom', 10), ('bonus', 9), ('exercised_stock_options', 8), ('expenses', 6), ('salary', 5), ('restricted_stock', 5), ('total_payments', 4), (u'blown', 3), ('other', 3)]\n",
      "Top 6 features from all selection methods:  ['total_stock_value', u'boardroom', 'bonus', 'exercised_stock_options', 'expenses', 'salary']\n",
      "\n",
      "Final Features Used:  ['total_stock_value', u'boardroom', 'bonus', u'blown', 'exercised_stock_options', 'restricted_stock'] \n",
      "\n"
     ]
    }
   ],
   "source": [
    "### Selecting Best Features (IMPLEMENTED HERE, CANNOT BE DONE IN A PIPELINE)\n",
    "\n",
    "from feature_selector import select_best\n",
    "print \"\\n\\n\\nGetting best features...\"\n",
    "best_features = select_best(data_dict, features_list, 6)\n",
    "\n",
    "final_features = best_features\n",
    "## the best 6 aren't always the same here, input manually to be sure\n",
    "final_features = ['total_stock_value', u'boardroom', 'bonus', u'blown', \\\n",
    "    'exercised_stock_options', 'restricted_stock'] #, 'salary']\n",
    "print \"\\nFinal Features Used: \", final_features, \"\\n\"\n",
    "\n",
    "\n",
    "### Store to my_dataset for easy export below.\n",
    "my_dataset = data_dict\n",
    "features_list = ['poi'] + final_features\n",
    "\n",
    "\n",
    "### Extract features and labels from dataset for local testing\n",
    "data = featureFormat(my_dataset, features_list, sort_keys = True)\n",
    "labels, features = targetFeatureSplit(data)"
   ]
  },
  {
   "cell_type": "code",
   "execution_count": 17,
   "metadata": {
    "collapsed": true
   },
   "outputs": [],
   "source": [
    "### Task 4: Try a varity of classifiers\n",
    "\n",
    "from sklearn.naive_bayes import GaussianNB\n",
    "#clf = GaussianNB()\n",
    "from sklearn.tree import DecisionTreeClassifier\n",
    "#clf = DecisionTreeClassifier()\n",
    "from sklearn.ensemble import AdaBoostClassifier\n",
    "#clf = AdaBoostClassifier()\n",
    "from sklearn.neighbors import KNeighborsClassifier\n",
    "#clf = KNeighborsClassifier()\n",
    "from sklearn.cluster import KMeans ## To do...\n",
    "#clf = KMeans(n_clusters=2)\n",
    "\n",
    "\n",
    "### Scaling and PCA\n",
    "from sklearn.pipeline import Pipeline\n",
    "from sklearn.preprocessing import MinMaxScaler, StandardScaler\n",
    "from sklearn.decomposition import PCA\n",
    "\n",
    "estimators = [('scaler', StandardScaler()), ('reducer', PCA()), \\\n",
    "    ('ada', AdaBoostClassifier())]  ## scaling and PCA vastly improve AdaBoost\n",
    "#estimators = [('scaler', MinMaxScaler()), \\\n",
    "    #('knn',  KNeighborsClassifier())] ## KNN requires range scaling\n",
    "\n",
    "\n",
    "### Classifier Selection\n",
    "#clf = GaussianNB()  ## this is the benchmark \n",
    "clf = Pipeline(estimators)"
   ]
  },
  {
   "cell_type": "code",
   "execution_count": 18,
   "metadata": {
    "collapsed": false
   },
   "outputs": [
    {
     "name": "stderr",
     "output_type": "stream",
     "text": [
      "[Parallel(n_jobs=1)]: Done  49 tasks       | elapsed:    1.0s\n",
      "[Parallel(n_jobs=1)]: Done  90 out of  90 | elapsed:    1.8s finished\n"
     ]
    },
    {
     "name": "stdout",
     "output_type": "stream",
     "text": [
      "Fitting 10 folds for each of 9 candidates, totalling 90 fits\n",
      "\n",
      "Best parameters: \n",
      "{'reducer__n_components': None, 'ada__n_estimators': 50, 'scaler': StandardScaler(copy=True, with_mean=True, with_std=True), 'ada__base_estimator__max_leaf_nodes': None, 'ada__base_estimator__criterion': 'gini', 'ada__base_estimator__min_weight_fraction_leaf': 0.0, 'ada__base_estimator__max_depth': None, 'scaler__copy': True, 'scaler__with_mean': True, 'reducer__copy': True, 'ada': AdaBoostClassifier(algorithm='SAMME.R',\n",
      "          base_estimator=DecisionTreeClassifier(class_weight=None, criterion='gini', max_depth=None,\n",
      "            max_features=None, max_leaf_nodes=None, min_samples_leaf=1,\n",
      "            min_samples_split=2, min_weight_fraction_leaf=0.0,\n",
      "            presort=False, random_state=None, splitter='best'),\n",
      "          learning_rate=5.0, n_estimators=50, random_state=None), 'ada__base_estimator__max_features': None, 'scaler__with_std': True, 'reducer__whiten': False, 'ada__base_estimator__random_state': None, 'ada__base_estimator__class_weight': None, 'ada__learning_rate': 5.0, 'ada__base_estimator__splitter': 'best', 'ada__base_estimator': DecisionTreeClassifier(class_weight=None, criterion='gini', max_depth=None,\n",
      "            max_features=None, max_leaf_nodes=None, min_samples_leaf=1,\n",
      "            min_samples_split=2, min_weight_fraction_leaf=0.0,\n",
      "            presort=False, random_state=None, splitter='best'), 'ada__algorithm': 'SAMME.R', 'ada__base_estimator__presort': False, 'reducer': PCA(copy=True, n_components=None, whiten=False), 'ada__base_estimator__min_samples_split': 2, 'steps': [('scaler', StandardScaler(copy=True, with_mean=True, with_std=True)), ('reducer', PCA(copy=True, n_components=None, whiten=False)), ('ada', AdaBoostClassifier(algorithm='SAMME.R',\n",
      "          base_estimator=DecisionTreeClassifier(class_weight=None, criterion='gini', max_depth=None,\n",
      "            max_features=None, max_leaf_nodes=None, min_samples_leaf=1,\n",
      "            min_samples_split=2, min_weight_fraction_leaf=0.0,\n",
      "            presort=False, random_state=None, splitter='best'),\n",
      "          learning_rate=5.0, n_estimators=50, random_state=None))], 'ada__random_state': None, 'ada__base_estimator__min_samples_leaf': 1}\n"
     ]
    }
   ],
   "source": [
    "### Parameter Optimization\n",
    "#from sklearn.cross_validation import train_test_split\n",
    "from sklearn.grid_search import GridSearchCV\n",
    "from sklearn.cross_validation import train_test_split, StratifiedShuffleSplit\n",
    "\n",
    "features_train, features_test, labels_train, labels_test = \\\n",
    "    train_test_split(features, labels, test_size=0.3, random_state=42)\n",
    "\n",
    "## standard scaler, pca, adaboost\n",
    "parameters = dict(ada__base_estimator = \\\n",
    "    [DecisionTreeClassifier(), DecisionTreeClassifier(max_depth = 5), \\\n",
    "    DecisionTreeClassifier(max_depth = 8)], \\\n",
    "    ada__learning_rate = [5.0, 10.0, 20.0])\n",
    "## min-max scaler, knn\n",
    "#parameters = dict(knn__n_neighbors = range(1, 6), \\\n",
    "    #knn__weights = ['uniform', 'distance'])\n",
    "\n",
    "sss = StratifiedShuffleSplit(labels_train, random_state = 11)\n",
    "## best cross-validation method for small data set and few POIs\n",
    "clf = GridSearchCV(clf, param_grid = parameters, scoring = 'recall', \\\n",
    "    cv = sss, verbose = 1)  ## maximizing the f1 score, recall results in same\n",
    "\n",
    "## grid fit for best estimator\n",
    "clf.fit(features_train, labels_train)\n",
    "\n",
    "## assign classifier to best estimator\n",
    "clf = clf.best_estimator_\n",
    "print \"\\nBest parameters: \\n\", clf.get_params()"
   ]
  },
  {
   "cell_type": "code",
   "execution_count": 19,
   "metadata": {
    "collapsed": false
   },
   "outputs": [
    {
     "name": "stdout",
     "output_type": "stream",
     "text": [
      "\n",
      "Accuracy:  0.856538461538 \n",
      "Precision:  0.470042846043 \n",
      "Recall:  0.485 \n",
      "F1-Score:  0.450472527473\n"
     ]
    }
   ],
   "source": [
    "### Task 5: Tune classifier to achieve better than .3 precision and recall \n",
    "\n",
    "### Evaluation Metrics\n",
    "from sklearn.metrics import \\\n",
    "    accuracy_score, precision_score, recall_score, f1_score\n",
    "\n",
    "## convert features and labels to arrays\n",
    "#print type(labels), type(features)\n",
    "features = np.asarray(features)\n",
    "labels = np.asarray(labels)\n",
    "\n",
    "## lists of metrics\n",
    "accuracy = []\n",
    "precision = []\n",
    "recall = []\n",
    "f_one = []\n",
    "\n",
    "## or for classification report\n",
    "total_labels = np.array([])\n",
    "total_preds = np.array([])\n",
    "\n",
    "folds = 200\n",
    "sss = StratifiedShuffleSplit(labels, folds, test_size = 0.3, random_state = 11)\n",
    "\n",
    "for train_idx, test_idx in sss:\n",
    "    features_train, labels_train = features[train_idx], labels[train_idx]\n",
    "    features_test, labels_test = features[test_idx], labels[test_idx]\n",
    "    \n",
    "    clf.fit(features_train, labels_train)\n",
    "    pred = clf.predict(features_test)\n",
    "    #pred = clf.fit_predict(features) ## k-means\n",
    "    \n",
    "    #acc = clf.score(features_test, labels_test)\n",
    "    acc = accuracy_score(labels_test, pred)\n",
    "    pre = precision_score(labels_test, pred)\n",
    "    rec = recall_score(labels_test, pred)\n",
    "    f1 = f1_score(labels_test, pred)\n",
    "    \n",
    "    accuracy.append(acc)\n",
    "    precision.append(pre)\n",
    "    recall.append(rec)\n",
    "    f_one.append(f1)\n",
    "    \n",
    "    total_labels = np.concatenate((total_labels, labels_test))\n",
    "    total_preds = np.concatenate((total_preds, pred))\n",
    "\n",
    "## not quite the same as tester.py\n",
    "print \"\\nAccuracy: \", sum(accuracy)/folds, \"\\nPrecision: \", \\\n",
    "    sum(precision)/folds, \"\\nRecall: \", sum(recall)/folds, \\\n",
    "    \"\\nF1-Score: \", sum(f_one)/folds"
   ]
  },
  {
   "cell_type": "code",
   "execution_count": 20,
   "metadata": {
    "collapsed": false
   },
   "outputs": [
    {
     "name": "stdout",
     "output_type": "stream",
     "text": [
      "\n",
      "             precision    recall  f1-score   support\n",
      "\n",
      "    non-POI       0.92      0.91      0.92      6800\n",
      "        POI       0.45      0.48      0.46      1000\n",
      "\n",
      "avg / total       0.86      0.86      0.86      7800\n",
      "\n"
     ]
    }
   ],
   "source": [
    "## using sklearn\n",
    "from sklearn.metrics import classification_report\n",
    "## precision, recall, f1-score, and support (number of occurrences in test set)\n",
    "print \"\\n\", classification_report(total_labels, total_preds, \\\n",
    "    target_names=['non-POI', 'POI']) ## these scores appear to be less accurate"
   ]
  },
  {
   "cell_type": "code",
   "execution_count": 21,
   "metadata": {
    "collapsed": true
   },
   "outputs": [],
   "source": [
    "### Task 6: Dump classifier, dataset, and features_list for tester.py\n",
    "\n",
    "dump_classifier_and_data(clf, my_dataset, features_list)"
   ]
  },
  {
   "cell_type": "markdown",
   "metadata": {},
   "source": [
    "\n",
    "Using additional script for better evaluation metrics...\n"
   ]
  },
  {
   "cell_type": "code",
   "execution_count": 23,
   "metadata": {
    "collapsed": true
   },
   "outputs": [],
   "source": [
    "import pickle\n",
    "import sys\n",
    "from sklearn.cross_validation import StratifiedShuffleSplit\n",
    "sys.path.append(\"../tools/\") # DIFFERENT GITHUB PATH HERE\n",
    "from feature_format import featureFormat, targetFeatureSplit\n",
    "\n",
    "PERF_FORMAT_STRING = \"\\\n",
    "\\tAccuracy: {:>0.{display_precision}f}\\tPrecision: {:>0.{display_precision}f}\\t\\\n",
    "Recall: {:>0.{display_precision}f}\\tF1: {:>0.{display_precision}f}\\tF2: {:>0.{display_precision}f}\"\n",
    "RESULTS_FORMAT_STRING = \"\\tTotal predictions: {:4d}\\tTrue positives: {:4d}\\tFalse positives: {:4d}\\tFalse negatives: {:4d}\\tTrue negatives: {:4d}\"\n",
    "\n",
    "def test_classifier(clf, dataset, feature_list, folds = 1000):\n",
    "    data = featureFormat(dataset, feature_list, sort_keys = True)\n",
    "    labels, features = targetFeatureSplit(data)\n",
    "    cv = StratifiedShuffleSplit(labels, folds, random_state = 42)\n",
    "    true_negatives = 0\n",
    "    false_negatives = 0\n",
    "    true_positives = 0\n",
    "    false_positives = 0\n",
    "    for train_idx, test_idx in cv: \n",
    "        features_train = []\n",
    "        features_test  = []\n",
    "        labels_train   = []\n",
    "        labels_test    = []\n",
    "        for ii in train_idx:\n",
    "            features_train.append( features[ii] )\n",
    "            labels_train.append( labels[ii] )\n",
    "        for jj in test_idx:\n",
    "            features_test.append( features[jj] )\n",
    "            labels_test.append( labels[jj] )\n",
    "        \n",
    "        ### fit the classifier using training set, and test on test set\n",
    "        clf.fit(features_train, labels_train)\n",
    "        predictions = clf.predict(features_test)\n",
    "        for prediction, truth in zip(predictions, labels_test):\n",
    "            if prediction == 0 and truth == 0:\n",
    "                true_negatives += 1\n",
    "            elif prediction == 0 and truth == 1:\n",
    "                false_negatives += 1\n",
    "            elif prediction == 1 and truth == 0:\n",
    "                false_positives += 1\n",
    "            elif prediction == 1 and truth == 1:\n",
    "                true_positives += 1\n",
    "            else:\n",
    "                print \"Warning: Found a predicted label not == 0 or 1.\"\n",
    "                print \"All predictions should take value 0 or 1.\"\n",
    "                print \"Evaluating performance for processed predictions:\"\n",
    "                break\n",
    "    try:\n",
    "        total_predictions = true_negatives + false_negatives + false_positives + true_positives\n",
    "        accuracy = 1.0*(true_positives + true_negatives)/total_predictions\n",
    "        precision = 1.0*true_positives/(true_positives+false_positives)\n",
    "        recall = 1.0*true_positives/(true_positives+false_negatives)\n",
    "        f1 = 2.0 * true_positives/(2*true_positives + false_positives+false_negatives)\n",
    "        f2 = (1+2.0*2.0) * precision*recall/(4*precision + recall)\n",
    "        print clf\n",
    "        print PERF_FORMAT_STRING.format(accuracy, precision, recall, f1, f2, display_precision = 5)\n",
    "        print RESULTS_FORMAT_STRING.format(total_predictions, true_positives, false_positives, false_negatives, true_negatives)\n",
    "        print \"\"\n",
    "    except:\n",
    "        print \"Got a divide by zero when trying out:\", clf\n",
    "        print \"Precision or recall may be undefined due to a lack of true positive predicitons.\"\n",
    "\n",
    "CLF_PICKLE_FILENAME = \"my_classifier.pkl\"\n",
    "DATASET_PICKLE_FILENAME = \"my_dataset.pkl\"\n",
    "FEATURE_LIST_FILENAME = \"my_feature_list.pkl\"\n",
    "\n",
    "def dump_classifier_and_data(clf, dataset, feature_list):\n",
    "    pickle.dump(clf, open(CLF_PICKLE_FILENAME, \"w\") )\n",
    "    pickle.dump(dataset, open(DATASET_PICKLE_FILENAME, \"w\") )\n",
    "    pickle.dump(feature_list, open(FEATURE_LIST_FILENAME, \"w\") )\n",
    "\n",
    "def load_classifier_and_data():\n",
    "    clf = pickle.load(open(CLF_PICKLE_FILENAME, \"r\") )\n",
    "    dataset = pickle.load(open(DATASET_PICKLE_FILENAME, \"r\") )\n",
    "    feature_list = pickle.load(open(FEATURE_LIST_FILENAME, \"r\"))\n",
    "    return clf, dataset, feature_list\n",
    "\n",
    "def main():\n",
    "    ### load up student's classifier, dataset, and feature_list\n",
    "    clf, dataset, feature_list = load_classifier_and_data()\n",
    "    ### Run testing script\n",
    "    test_classifier(clf, dataset, feature_list)"
   ]
  },
  {
   "cell_type": "code",
   "execution_count": 24,
   "metadata": {
    "collapsed": false
   },
   "outputs": [
    {
     "name": "stdout",
     "output_type": "stream",
     "text": [
      "Pipeline(steps=[('scaler', StandardScaler(copy=True, with_mean=True, with_std=True)), ('reducer', PCA(copy=True, n_components=None, whiten=False)), ('ada', AdaBoostClassifier(algorithm='SAMME.R',\n",
      "          base_estimator=DecisionTreeClassifier(class_weight=None, criterion='gini', max_depth=None,\n",
      "            ...dom_state=None, splitter='best'),\n",
      "          learning_rate=5.0, n_estimators=50, random_state=None))])\n",
      "\tAccuracy: 0.84869\tPrecision: 0.50833\tRecall: 0.50350\tF1: 0.50590\tF2: 0.50446\n",
      "\tTotal predictions: 13000\tTrue positives: 1007\tFalse positives:  974\tFalse negatives:  993\tTrue negatives: 10026\n",
      "\n"
     ]
    }
   ],
   "source": [
    "main()"
   ]
  },
  {
   "cell_type": "code",
   "execution_count": null,
   "metadata": {
    "collapsed": true
   },
   "outputs": [],
   "source": []
  }
 ],
 "metadata": {
  "kernelspec": {
   "display_name": "Python 2",
   "language": "python",
   "name": "python2"
  },
  "language_info": {
   "codemirror_mode": {
    "name": "ipython",
    "version": 2
   },
   "file_extension": ".py",
   "mimetype": "text/x-python",
   "name": "python",
   "nbconvert_exporter": "python",
   "pygments_lexer": "ipython2",
   "version": "2.7.11"
  }
 },
 "nbformat": 4,
 "nbformat_minor": 0
}
