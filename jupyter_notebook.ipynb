{
 "cells": [
  {
   "cell_type": "markdown",
   "metadata": {},
   "source": [
    "## 1\n",
    "\n",
    "**Summarize for us the goal of this project and how machine learning is useful in trying to accomplish it. As part of your answer, give some background on the dataset and how it can be used to answer the project question. Were there any outliers in the data when you got it, and how did you handle those?**"
   ]
  },
  {
   "cell_type": "markdown",
   "metadata": {},
   "source": [
    "The goal of this project is to train a supervised machine learning algorithm for prediction.  To do this, we'll be using the Enron data set.  This data set contains financial information and email data from various employees in that former company.  Enron was an energy commodities and services corporation that went bankrupt in 2001 due to fraud.  The supervised model will attempt to classify whether or not an employee was a person of interest (ie whether or not they were complicit)."
   ]
  },
  {
   "cell_type": "code",
   "execution_count": 1,
   "metadata": {
    "collapsed": false
   },
   "outputs": [],
   "source": [
    "#!/usr/bin/python\n",
    "# -*- coding: utf-8 -*-\n",
    "import pickle"
   ]
  },
  {
   "cell_type": "code",
   "execution_count": 2,
   "metadata": {
    "collapsed": false
   },
   "outputs": [],
   "source": [
    "### Task 1: Select what features you'll use.\n",
    "### features_list is a list of strings, each of which is a feature name.\n",
    "### The first feature must be \"poi\".\n",
    "\n",
    "financial_features = ['salary', 'deferral_payments', 'total_payments',\n",
    "'loan_advances', 'bonus', 'restricted_stock_deferred', 'deferred_income',\n",
    "'total_stock_value', 'expenses', 'exercised_stock_options', 'other',\n",
    "'long_term_incentive', 'restricted_stock', 'director_fees']\n",
    "# all units in USD\n",
    "email_features = ['to_messages', 'from_poi_to_this_person', 'email_address',\n",
    "'from_messages', 'from_this_person_to_poi', 'shared_receipt_with_poi']\n",
    "# email_address only non-numeric\n",
    "poi_label = ['poi'] # boolean\n",
    "# include all features to start\n",
    "features_list = poi_label + financial_features + email_features\n",
    "\n",
    "### Load the dictionary containing the dataset\n",
    "with open(\"final_project_dataset.pkl\", \"r\") as data_file:\n",
    "    data_dict = pickle.load(data_file)"
   ]
  },
  {
   "cell_type": "code",
   "execution_count": 3,
   "metadata": {
    "collapsed": false
   },
   "outputs": [
    {
     "name": "stdout",
     "output_type": "stream",
     "text": [
      "<class 'pandas.core.frame.DataFrame'>\n",
      "Index: 146 entries, ALLEN PHILLIP K to YEAP SOON\n",
      "Data columns (total 21 columns):\n",
      "salary                       95 non-null float64\n",
      "to_messages                  86 non-null float64\n",
      "deferral_payments            39 non-null float64\n",
      "total_payments               125 non-null float64\n",
      "exercised_stock_options      102 non-null float64\n",
      "bonus                        82 non-null float64\n",
      "restricted_stock             110 non-null float64\n",
      "shared_receipt_with_poi      86 non-null float64\n",
      "restricted_stock_deferred    18 non-null float64\n",
      "total_stock_value            126 non-null float64\n",
      "expenses                     95 non-null float64\n",
      "loan_advances                4 non-null float64\n",
      "from_messages                86 non-null float64\n",
      "other                        93 non-null float64\n",
      "from_this_person_to_poi      86 non-null float64\n",
      "poi                          146 non-null bool\n",
      "director_fees                17 non-null float64\n",
      "deferred_income              49 non-null float64\n",
      "long_term_incentive          66 non-null float64\n",
      "email_address                111 non-null object\n",
      "from_poi_to_this_person      86 non-null float64\n",
      "dtypes: bool(1), float64(19), object(1)\n",
      "memory usage: 24.1+ KB\n"
     ]
    }
   ],
   "source": [
    "### Task 2: Remove outliers\n",
    "\n",
    "import pandas as pd\n",
    "import numpy as np\n",
    "\n",
    "df = pd.DataFrame.from_dict(data_dict, orient = 'index')\n",
    "#print df.isnull().any()\n",
    "# NaN values are actually strings\n",
    "df = df.replace('NaN', np.nan) # works better than '0' for stats/plots\n",
    "# general data set information\n",
    "df.info()"
   ]
  },
  {
   "cell_type": "code",
   "execution_count": 4,
   "metadata": {
    "collapsed": false
   },
   "outputs": [
    {
     "data": {
      "text/plain": [
       "18"
      ]
     },
     "execution_count": 4,
     "metadata": {},
     "output_type": "execute_result"
    }
   ],
   "source": [
    "# number of POIs\n",
    "sum(df.poi == True)"
   ]
  },
  {
   "cell_type": "markdown",
   "metadata": {},
   "source": [
    "There are 146 observations (people) in the data set and a total of 21 features.  Out of 146 people, 18 are persons of interest.  Some features have more missing values than others.  Below is the percentage of missing values in each feature."
   ]
  },
  {
   "cell_type": "code",
   "execution_count": 5,
   "metadata": {
    "collapsed": false
   },
   "outputs": [
    {
     "data": {
      "text/plain": [
       "salary                       34.931507\n",
       "to_messages                  41.095890\n",
       "deferral_payments            73.287671\n",
       "total_payments               14.383562\n",
       "exercised_stock_options      30.136986\n",
       "bonus                        43.835616\n",
       "restricted_stock             24.657534\n",
       "shared_receipt_with_poi      41.095890\n",
       "restricted_stock_deferred    87.671233\n",
       "total_stock_value            13.698630\n",
       "expenses                     34.931507\n",
       "loan_advances                97.260274\n",
       "from_messages                41.095890\n",
       "other                        36.301370\n",
       "from_this_person_to_poi      41.095890\n",
       "poi                           0.000000\n",
       "director_fees                88.356164\n",
       "deferred_income              66.438356\n",
       "long_term_incentive          54.794521\n",
       "email_address                23.972603\n",
       "from_poi_to_this_person      41.095890\n",
       "dtype: float64"
      ]
     },
     "execution_count": 5,
     "metadata": {},
     "output_type": "execute_result"
    }
   ],
   "source": [
    "100* df.isnull().sum() / df.shape[0]"
   ]
  },
  {
   "cell_type": "markdown",
   "metadata": {},
   "source": [
    "There are a few features that have more than 50% missing data and might be worthwhile to exclude:\n",
    "\n",
    "- loan_advances\n",
    "- director_fees\n",
    "- restricted_stock_deferred\n",
    "- deferral_payments\n",
    "- deferred_income\n",
    "- long_term_incentive"
   ]
  },
  {
   "cell_type": "code",
   "execution_count": 6,
   "metadata": {
    "collapsed": false
   },
   "outputs": [
    {
     "data": {
      "text/plain": [
       "loan_advances                17\n",
       "director_fees                18\n",
       "restricted_stock_deferred    18\n",
       "deferral_payments            13\n",
       "deferred_income               7\n",
       "long_term_incentive           6\n",
       "dtype: int64"
      ]
     },
     "execution_count": 6,
     "metadata": {},
     "output_type": "execute_result"
    }
   ],
   "source": [
    "missing_data = ['loan_advances', 'director_fees', 'restricted_stock_deferred',\\\n",
    "               'deferral_payments', 'deferred_income', 'long_term_incentive']\n",
    "# number of NaN for POIs in missing data features\n",
    "df[df.poi == True][missing_data].isnull().sum()"
   ]
  },
  {
   "cell_type": "markdown",
   "metadata": {},
   "source": [
    "Loan advances, director fees, and restricted stock deferred will be removed since they have little to no data for POIs."
   ]
  },
  {
   "cell_type": "code",
   "execution_count": 7,
   "metadata": {
    "collapsed": false
   },
   "outputs": [],
   "source": [
    "remove = ['loan_advances', 'director_fees', 'restricted_stock_deferred']\n",
    "features_list = [feat for feat in features_list if feat not in remove]"
   ]
  },
  {
   "cell_type": "markdown",
   "metadata": {},
   "source": [
    "After looking over the `insiderpay.pdf` file, I decided to remove `THE TRAVEL AGENCY IN THE PARK` observation (not a person)."
   ]
  },
  {
   "cell_type": "code",
   "execution_count": 8,
   "metadata": {
    "collapsed": false
   },
   "outputs": [],
   "source": [
    "df = df.drop('THE TRAVEL AGENCY IN THE PARK')"
   ]
  },
  {
   "cell_type": "code",
   "execution_count": 9,
   "metadata": {
    "collapsed": false
   },
   "outputs": [
    {
     "data": {
      "image/png": "[encoded data removed]",
      "text/plain": [
       "<matplotlib.figure.Figure at 0x7f196b21c190>"
      ]
     },
     "metadata": {},
     "output_type": "display_data"
    }
   ],
   "source": [
    "import seaborn as sns\n",
    "%matplotlib inline\n",
    "# if NaN strings are kept, need to filter these values\n",
    "#df_plt = df[(df.total_payments != \"NaN\") & (df.total_stock_value != \"NaN\")]\n",
    "\n",
    "# total payments vs total stock value\n",
    "sns.jointplot(x=\"total_payments\", y=\"total_stock_value\", data=df, dropna=True)\n",
    "sns.plt.show()"
   ]
  },
  {
   "cell_type": "code",
   "execution_count": 10,
   "metadata": {
    "collapsed": false
   },
   "outputs": [
    {
     "data": {
      "text/plain": [
       "Index([u'LAY KENNETH L', u'TOTAL'], dtype='object')"
      ]
     },
     "execution_count": 10,
     "metadata": {},
     "output_type": "execute_result"
    }
   ],
   "source": [
    "df[df.total_payments > 1e8].index"
   ]
  },
  {
   "cell_type": "code",
   "execution_count": 11,
   "metadata": {
    "collapsed": false
   },
   "outputs": [
    {
     "data": {
      "text/plain": [
       "'TOTAL'"
      ]
     },
     "execution_count": 11,
     "metadata": {},
     "output_type": "execute_result"
    }
   ],
   "source": [
    "df.total_payments.idxmax()"
   ]
  },
  {
   "cell_type": "markdown",
   "metadata": {
    "collapsed": false
   },
   "source": [
    "There are 2 significant outliers in the data.  The first and largest is `TOTAL` which is simply the sum of all observations, so this will be removed.  The other is Ken Lay, who was the CEO of Enron and a definite POI in the data.  Ken Lay will be kept, especially since there are few POIs to begin with."
   ]
  },
  {
   "cell_type": "code",
   "execution_count": 12,
   "metadata": {
    "collapsed": true
   },
   "outputs": [],
   "source": [
    "df = df.drop('TOTAL')"
   ]
  },
  {
   "cell_type": "code",
   "execution_count": 13,
   "metadata": {
    "collapsed": false
   },
   "outputs": [
    {
     "data": {
      "text/plain": [
       "Index([u'LOCKHART EUGENE E'], dtype='object')"
      ]
     },
     "execution_count": 13,
     "metadata": {},
     "output_type": "execute_result"
    }
   ],
   "source": [
    "# people with no financial data\n",
    "df[df[financial_features].isnull().all(axis=1)].index"
   ]
  },
  {
   "cell_type": "markdown",
   "metadata": {},
   "source": [
    "There is 1 person without any financial data that will also need to be removed."
   ]
  },
  {
   "cell_type": "code",
   "execution_count": 14,
   "metadata": {
    "collapsed": false
   },
   "outputs": [],
   "source": [
    "df = df.drop('LOCKHART EUGENE E')"
   ]
  },
  {
   "cell_type": "markdown",
   "metadata": {},
   "source": [
    "I've also decided to leave out some of the numerical email features.  Those that are from/to POI messages contain information about who and who is not a POI (ie data leakage)."
   ]
  },
  {
   "cell_type": "code",
   "execution_count": 15,
   "metadata": {
    "collapsed": true
   },
   "outputs": [],
   "source": [
    "leakage = ['from_this_person_to_poi', 'from_poi_to_this_person', 'shared_receipt_with_poi']\n",
    "features_list = [feat for feat in features_list if feat not in leakage]"
   ]
  },
  {
   "cell_type": "markdown",
   "metadata": {},
   "source": [
    "To get an idea for what type of benchmark classifier to use, I want to see if the data looks remotely linearly separable (ie logistic regression or tree based/other)."
   ]
  },
  {
   "cell_type": "code",
   "execution_count": 16,
   "metadata": {
    "collapsed": false
   },
   "outputs": [
    {
     "data": {
      "image/png": "[encoded data removed]",
      "text/plain": [
       "<matplotlib.figure.Figure at 0x7f196848ca10>"
      ]
     },
     "metadata": {},
     "output_type": "display_data"
    }
   ],
   "source": [
    "p = sns.lmplot('total_payments', 'total_stock_value', data=df, hue='poi', fit_reg=False)\n",
    "p.set(xlim=(-1e6, 1.75e7), ylim=(-1e6, 1.75e7))\n",
    "sns.plt.show()"
   ]
  },
  {
   "cell_type": "code",
   "execution_count": 17,
   "metadata": {
    "collapsed": false
   },
   "outputs": [
    {
     "data": {
      "image/png": "[encoded data removed]",
      "text/plain": [
       "<matplotlib.figure.Figure at 0x7f19682ec350>"
      ]
     },
     "metadata": {},
     "output_type": "display_data"
    }
   ],
   "source": [
    "sns.lmplot('salary', 'bonus', data=df, hue='poi', fit_reg=False)\n",
    "sns.plt.show()"
   ]
  },
  {
   "cell_type": "code",
   "execution_count": 18,
   "metadata": {
    "collapsed": false
   },
   "outputs": [
    {
     "data": {
      "image/png": "[encoded data removed]",
      "text/plain": [
       "<matplotlib.figure.Figure at 0x7f196842f8d0>"
      ]
     },
     "metadata": {},
     "output_type": "display_data"
    }
   ],
   "source": [
    "sns.lmplot('exercised_stock_options', 'restricted_stock', data=df, hue='poi', fit_reg=False)\n",
    "sns.plt.show()"
   ]
  },
  {
   "cell_type": "markdown",
   "metadata": {},
   "source": [
    "Not an exhaustive search (pairs plot function in seaborn can't handle NaN values) but I don't think a logistic regression is the best choice for a benchmark classifier.  I'll try naive bayes or decision tree..."
   ]
  },
  {
   "cell_type": "code",
   "execution_count": 19,
   "metadata": {
    "collapsed": true
   },
   "outputs": [],
   "source": [
    "# dataframe back to dictionary\n",
    "df = df.replace(np.nan, 'NaN') # need to convert back to 'NaN' \n",
    "data_dict = df[features_list].to_dict(orient = 'index')"
   ]
  },
  {
   "cell_type": "code",
   "execution_count": 20,
   "metadata": {
    "collapsed": false
   },
   "outputs": [
    {
     "name": "stdout",
     "output_type": "stream",
     "text": [
      "DecisionTreeClassifier(class_weight=None, criterion='gini', max_depth=None,\n",
      "            max_features=None, max_leaf_nodes=None,\n",
      "            min_impurity_split=1e-07, min_samples_leaf=1,\n",
      "            min_samples_split=2, min_weight_fraction_leaf=0.0,\n",
      "            presort=False, random_state=None, splitter='best')\n",
      "\tAccuracy: 0.79827\tPrecision: 0.24012\tRecall: 0.23700\tF1: 0.23855\tF2: 0.23762\n",
      "\tTotal predictions: 15000\tTrue positives:  474\tFalse positives: 1500\tFalse negatives: 1526\tTrue negatives: 11500\n",
      "\n"
     ]
    }
   ],
   "source": [
    "from benchmark import benchmark_score\n",
    "benchmark_score(data_dict, features_list)"
   ]
  },
  {
   "cell_type": "code",
   "execution_count": 21,
   "metadata": {
    "collapsed": false
   },
   "outputs": [],
   "source": [
    "# dump to pickle for checkpoint\n",
    "with open(\"outlier_dataset.pkl\", \"w\") as f_out:\n",
    "    pickle.dump(data_dict, f_out)"
   ]
  },
  {
   "cell_type": "markdown",
   "metadata": {},
   "source": [
    "## 2\n",
    "\n",
    "**What features did you end up using in your POI identifier, and what selection process did you use to pick them? Did you have to do any scaling? Why or why not? As part of the assignment, you should attempt to engineer your own feature that does not come ready-made in the dataset -- explain what feature you tried to make, and the rationale behind it. (You do not necessarily have to use it in the final analysis, only engineer and test it.) In your feature selection step, if you used an algorithm like a decision tree, please also give the feature importances of the features that you use, and if you used an automated feature selection function like SelectKBest, please report the feature scores and reasons for your choice of parameter values.**"
   ]
  },
  {
   "cell_type": "markdown",
   "metadata": {},
   "source": [
    "During the data exploration and outlier removal process, I found some features with a large proportion of missing values.  There were also email features that incorporated information about POI status.  So these were all excluded from the features list:\n",
    "\n",
    "- loan_advances\n",
    "- director_fees\n",
    "- restricted_stock_deferred\n",
    "- from_this_person_to_poi\n",
    "- from_poi_to_this_person"
   ]
  },
  {
   "cell_type": "markdown",
   "metadata": {},
   "source": [
    "I created a few new features from the email corpus.  This was a pretty lengthy procedure.\n",
    "\n",
    "I first had to perform an audit to be that sure people who had email addresses and numerical email data, in fact had email text data (see `audit_emails.py`).  Then I built an email corpus for each person of all to and from emails, while cleaning the text data in the process (see `build_email_corpus.py`)."
   ]
  },
  {
   "cell_type": "code",
   "execution_count": 42,
   "metadata": {
    "collapsed": true
   },
   "outputs": [],
   "source": [
    "### Task 3: Create new feature(s)\n",
    "### Store to my_dataset for easy export below.\n",
    "\n",
    "with open(\"outlier_dataset.pkl\", \"r\") as f_in:\n",
    "        data_dict = pickle.load(f_in)"
   ]
  },
  {
   "cell_type": "code",
   "execution_count": 20,
   "metadata": {
    "collapsed": false
   },
   "outputs": [
    {
     "name": "stdout",
     "output_type": "stream",
     "text": [
      "0 paths not found\n",
      "time to build corpus: 86.95 minutes\n"
     ]
    }
   ],
   "source": [
    "from build_email_corpus import build_email_dataset\n",
    "build_email_dataset(data_dict)"
   ]
  },
  {
   "cell_type": "markdown",
   "metadata": {},
   "source": [
    "At this point each person had a new feature.  The feature is a list where every element in the list is the text for a single email.  There were too many emails to try a bag-of-words approach.  I actually tried both a count vectorizer as well as TfIdf (term frequency inverse document frequency) but the dimensionality of terms was too great.\n",
    "\n",
    "I decided to reduce the dimensionality of the email corpus for each person using LDA (latent dirichlet allocation).  The emails for each person were then reduced to just a few topics and all topics were limited in the size of vocabulary (see `build_topic_corpus.py`)."
   ]
  },
  {
   "cell_type": "code",
   "execution_count": 24,
   "metadata": {
    "collapsed": true
   },
   "outputs": [],
   "source": [
    "with open(\"emails_dataset.pkl\", \"r\") as f_in:\n",
    "        data_dict = pickle.load(f_in)"
   ]
  },
  {
   "cell_type": "code",
   "execution_count": 25,
   "metadata": {
    "collapsed": false
   },
   "outputs": [
    {
     "name": "stdout",
     "output_type": "stream",
     "text": [
      "time to build topics: 11.51 minutes\n"
     ]
    }
   ],
   "source": [
    "from build_topic_corpus import build_topic_dataset\n",
    "build_topic_dataset(data_dict)"
   ]
  },
  {
   "cell_type": "markdown",
   "metadata": {},
   "source": [
    "From here I used a random forest classifer with cross validation to extract words with predictive capability (see `create_word_features.py`).  The end result is that each person was given 10 new numerical features.  The feature name is the (hopefully) meaningful word and the value is the number of times that word occurred in that person's topic corpus."
   ]
  },
  {
   "cell_type": "code",
   "execution_count": 27,
   "metadata": {
    "collapsed": false
   },
   "outputs": [],
   "source": [
    "with open(\"topic_dataset.pkl\", \"r\") as f_in:\n",
    "        data_dict = pickle.load(f_in)"
   ]
  },
  {
   "cell_type": "code",
   "execution_count": 28,
   "metadata": {
    "collapsed": false
   },
   "outputs": [],
   "source": [
    "from create_word_features import build_word_dataset\n",
    "build_word_dataset(data_dict)"
   ]
  },
  {
   "cell_type": "code",
   "execution_count": 52,
   "metadata": {
    "collapsed": false
   },
   "outputs": [],
   "source": [
    "# final checkpoint\n",
    "with open(\"word_dataset.pkl\", \"r\") as f_in:\n",
    "        data_dict = pickle.load(f_in)"
   ]
  },
  {
   "cell_type": "markdown",
   "metadata": {},
   "source": [
    "With new features added, see if they have improved the benchmark score."
   ]
  },
  {
   "cell_type": "code",
   "execution_count": 53,
   "metadata": {
    "collapsed": false
   },
   "outputs": [],
   "source": [
    "df = pd.DataFrame.from_dict(data_dict, orient = 'index')\n",
    "all_features = df.columns.values.tolist()"
   ]
  },
  {
   "cell_type": "code",
   "execution_count": 54,
   "metadata": {
    "collapsed": false
   },
   "outputs": [
    {
     "name": "stdout",
     "output_type": "stream",
     "text": [
      "DecisionTreeClassifier(class_weight=None, criterion='gini', max_depth=None,\n",
      "            max_features=None, max_leaf_nodes=None,\n",
      "            min_impurity_split=1e-07, min_samples_leaf=1,\n",
      "            min_samples_split=2, min_weight_fraction_leaf=0.0,\n",
      "            presort=False, random_state=None, splitter='best')\n",
      "\tAccuracy: 0.82407\tPrecision: 0.34936\tRecall: 0.37050\tF1: 0.35962\tF2: 0.36607\n",
      "\tTotal predictions: 15000\tTrue positives:  741\tFalse positives: 1380\tFalse negatives: 1259\tTrue negatives: 11620\n",
      "\n"
     ]
    }
   ],
   "source": [
    "from benchmark import benchmark_score\n",
    "benchmark_score(data_dict, all_features)"
   ]
  },
  {
   "cell_type": "markdown",
   "metadata": {
    "collapsed": true
   },
   "source": [
    "including the new features defintely improved the score...\n",
    "\n",
    "feature selection method, feature importances from decision tree classifier used on stratified folds of data..."
   ]
  },
  {
   "cell_type": "code",
   "execution_count": 55,
   "metadata": {
    "collapsed": false
   },
   "outputs": [],
   "source": [
    "from feature_selector import get_feature_scores\n",
    "names, scores = get_feature_scores(data_dict)"
   ]
  },
  {
   "cell_type": "code",
   "execution_count": 56,
   "metadata": {
    "collapsed": false
   },
   "outputs": [
    {
     "data": {
      "image/png": "[encoded data removed]",
      "text/plain": [
       "<matplotlib.figure.Figure at 0x7f19685a0c50>"
      ]
     },
     "metadata": {},
     "output_type": "display_data"
    }
   ],
   "source": [
    "# plot names with scores\n",
    "import matplotlib.pyplot as plt\n",
    "df_plt = pd.DataFrame()\n",
    "df_plt['name'] = names; df_plt['score'] = scores\n",
    "fig, ax = plt.subplots()\n",
    "fig.set_size_inches(9, 7)\n",
    "sns.barplot(y = \"name\", x = \"score\", data = df_plt,\n",
    "            palette = sns.color_palette(\"Set2\", 10))\n",
    "sns.plt.show()"
   ]
  },
  {
   "cell_type": "markdown",
   "metadata": {},
   "source": [
    "arbitrary cutoff after 0.06, keep\n",
    "- bonus\n",
    "- exercised stock options\n",
    "- expenses\n",
    "- holiday (email data was useful)\n",
    "- other\n",
    "- restricted stock\n",
    "- total stock value\n",
    "\n",
    "score after reducing features..."
   ]
  },
  {
   "cell_type": "code",
   "execution_count": 57,
   "metadata": {
    "collapsed": true
   },
   "outputs": [],
   "source": [
    "reduced_features = ['poi'] + names[0:7]"
   ]
  },
  {
   "cell_type": "code",
   "execution_count": 58,
   "metadata": {
    "collapsed": false
   },
   "outputs": [
    {
     "name": "stdout",
     "output_type": "stream",
     "text": [
      "DecisionTreeClassifier(class_weight=None, criterion='gini', max_depth=None,\n",
      "            max_features=None, max_leaf_nodes=None,\n",
      "            min_impurity_split=1e-07, min_samples_leaf=1,\n",
      "            min_samples_split=2, min_weight_fraction_leaf=0.0,\n",
      "            presort=False, random_state=None, splitter='best')\n",
      "\tAccuracy: 0.84000\tPrecision: 0.44118\tRecall: 0.45000\tF1: 0.44554\tF2: 0.44821\n",
      "\tTotal predictions: 14000\tTrue positives:  900\tFalse positives: 1140\tFalse negatives: 1100\tTrue negatives: 10860\n",
      "\n"
     ]
    }
   ],
   "source": [
    "# after reducing features\n",
    "benchmark_score(data_dict, reduced_features)"
   ]
  },
  {
   "cell_type": "markdown",
   "metadata": {},
   "source": [
    "score improved, can say that these features capture signal in POIs while removing some noise..."
   ]
  },
  {
   "cell_type": "code",
   "execution_count": 75,
   "metadata": {
    "collapsed": false
   },
   "outputs": [
    {
     "data": {
      "text/plain": [
       "9"
      ]
     },
     "execution_count": 75,
     "metadata": {},
     "output_type": "execute_result"
    }
   ],
   "source": [
    "sum(df.holiday != 0)"
   ]
  },
  {
   "cell_type": "markdown",
   "metadata": {},
   "source": [
    "there are 9 people who have the word 'holiday' in their topic text, so at least this word isn't exclusive to just 1 or 2 people."
   ]
  },
  {
   "cell_type": "markdown",
   "metadata": {},
   "source": [
    "## 3\n",
    "\n",
    "**What algorithm did you end up using? What other one(s) did you try? How did model performance differ between algorithms?**"
   ]
  },
  {
   "cell_type": "code",
   "execution_count": 30,
   "metadata": {
    "collapsed": false
   },
   "outputs": [],
   "source": [
    "### Task 4: Try a variety of classifiers\n",
    "### Please name your classifier clf for easy export below.\n",
    "### Note that if you want to do PCA or other multi-stage operations,\n",
    "### you'll need to use Pipelines. For more info:\n",
    "### http://scikit-learn.org/stable/modules/pipeline.html\n",
    "\n",
    "import sys\n",
    "sys.path.append(\"../tools/\") # path for 'feature_format.py'\n",
    "from feature_format import featureFormat, targetFeatureSplit\n",
    "from tester import dump_classifier_and_data, test_classifier\n",
    "# format for model testing\n",
    "data = featureFormat(data_dict, reduced_features, sort_keys = True)\n",
    "labels, features = targetFeatureSplit(data)"
   ]
  },
  {
   "cell_type": "code",
   "execution_count": 33,
   "metadata": {
    "collapsed": false
   },
   "outputs": [],
   "source": [
    "### Task 5: Tune your classifier to achieve better than .3 precision and recall \n",
    "### using our testing script. Check the tester.py script in the final project\n",
    "### folder for details on the evaluation method, especially the test_classifier\n",
    "### function. Because of the small size of the dataset, the script uses\n",
    "### stratified shuffle split cross validation. For more info: \n",
    "### http://scikit-learn.org/stable/modules/generated/sklearn.cross_validation.StratifiedShuffleSplit.html\n",
    "\n",
    "from sklearn.model_selection import RandomizedSearchCV"
   ]
  },
  {
   "cell_type": "code",
   "execution_count": 41,
   "metadata": {
    "collapsed": false
   },
   "outputs": [
    {
     "name": "stdout",
     "output_type": "stream",
     "text": [
      "GaussianNB(priors=None)\n",
      "\tAccuracy: 0.84171\tPrecision: 0.42082\tRecall: 0.28700\tF1: 0.34126\tF2: 0.30649\n",
      "\tTotal predictions: 14000\tTrue positives:  574\tFalse positives:  790\tFalse negatives: 1426\tTrue negatives: 11210\n",
      "\n"
     ]
    }
   ],
   "source": [
    "# naive bayes\n",
    "from sklearn.naive_bayes import GaussianNB\n",
    "\n",
    "gnb = GaussianNB()\n",
    "test_classifier(gnb, data_dict, reduced_features)"
   ]
  },
  {
   "cell_type": "code",
   "execution_count": 45,
   "metadata": {
    "collapsed": false
   },
   "outputs": [
    {
     "name": "stdout",
     "output_type": "stream",
     "text": [
      "Fitting 10 folds for each of 10 candidates, totalling 100 fits\n"
     ]
    },
    {
     "name": "stderr",
     "output_type": "stream",
     "text": [
      "[Parallel(n_jobs=1)]: Done 100 out of 100 | elapsed:    0.8s finished\n"
     ]
    },
    {
     "name": "stdout",
     "output_type": "stream",
     "text": [
      "Pipeline(steps=[('scaler', StandardScaler(copy=True, with_mean=True, with_std=True)), ('knn', KNeighborsClassifier(algorithm='auto', leaf_size=30, metric='minkowski',\n",
      "           metric_params=None, n_jobs=1, n_neighbors=4, p=2,\n",
      "           weights='distance'))])\n",
      "\tAccuracy: 0.89793\tPrecision: 0.86744\tRecall: 0.33700\tF1: 0.48542\tF2: 0.38396\n",
      "\tTotal predictions: 14000\tTrue positives:  674\tFalse positives:  103\tFalse negatives: 1326\tTrue negatives: 11897\n",
      "\n"
     ]
    }
   ],
   "source": [
    "# knn\n",
    "from sklearn.neighbors import KNeighborsClassifier\n",
    "from sklearn.preprocessing import StandardScaler\n",
    "from sklearn.pipeline import Pipeline\n",
    "\n",
    "estimators = [('scaler', StandardScaler()),\n",
    "              ('knn', KNeighborsClassifier())]\n",
    "knn_params = dict(knn__n_neighbors = list(range(1, 10)),\n",
    "                  knn__weights = ['uniform', 'distance'])\n",
    "pipe = Pipeline(estimators)\n",
    "# 'cv' param is num folds for stratified K fold\n",
    "knn_srch = RandomizedSearchCV(pipe, cv = 10, param_distributions = knn_params,\n",
    "                              scoring = 'recall', verbose = 1)\n",
    "knn_srch.fit(features, labels)\n",
    "# best estimator\n",
    "knn = knn_srch.best_estimator_\n",
    "test_classifier(knn, data_dict, reduced_features)"
   ]
  },
  {
   "cell_type": "code",
   "execution_count": 47,
   "metadata": {
    "collapsed": false
   },
   "outputs": [
    {
     "name": "stdout",
     "output_type": "stream",
     "text": [
      "Fitting 10 folds for each of 10 candidates, totalling 100 fits\n"
     ]
    },
    {
     "name": "stderr",
     "output_type": "stream",
     "text": [
      "[Parallel(n_jobs=1)]: Done 100 out of 100 | elapsed:    0.8s finished\n"
     ]
    },
    {
     "name": "stdout",
     "output_type": "stream",
     "text": [
      "Pipeline(steps=[('scaler', StandardScaler(copy=True, with_mean=True, with_std=True)), ('svc', SVC(C=0.8, cache_size=200, class_weight=None, coef0=0.0,\n",
      "  decision_function_shape=None, degree=3, gamma='auto', kernel='poly',\n",
      "  max_iter=-1, probability=False, random_state=None, shrinking=True,\n",
      "  tol=0.001, verbose=False))])\n",
      "\tAccuracy: 0.88443\tPrecision: 0.75000\tRecall: 0.28650\tF1: 0.41462\tF2: 0.32691\n",
      "\tTotal predictions: 14000\tTrue positives:  573\tFalse positives:  191\tFalse negatives: 1427\tTrue negatives: 11809\n",
      "\n"
     ]
    }
   ],
   "source": [
    "# support vector machine\n",
    "from sklearn.svm import SVC\n",
    "\n",
    "estimators = [('scaler', StandardScaler()),\n",
    "              ('svc', SVC())]\n",
    "svc_params = dict(svc__C = [x/10.0 for x in range(1, 10)],\n",
    "                  svc__kernel = ['poly', 'rbf', 'sigmoid'])\n",
    "pipe = Pipeline(estimators)\n",
    "\n",
    "svc_srch = RandomizedSearchCV(pipe, cv = 10, param_distributions = svc_params, scoring = 'recall', verbose = 1)\n",
    "svc_srch.fit(features, labels)\n",
    "svc = svc_srch.best_estimator_\n",
    "test_classifier(svc, data_dict, reduced_features)"
   ]
  },
  {
   "cell_type": "code",
   "execution_count": 48,
   "metadata": {
    "collapsed": false
   },
   "outputs": [
    {
     "name": "stdout",
     "output_type": "stream",
     "text": [
      "Fitting 10 folds for each of 10 candidates, totalling 100 fits\n"
     ]
    },
    {
     "name": "stderr",
     "output_type": "stream",
     "text": [
      "[Parallel(n_jobs=1)]: Done 100 out of 100 | elapsed:    9.4s finished\n"
     ]
    },
    {
     "name": "stdout",
     "output_type": "stream",
     "text": [
      "RandomForestClassifier(bootstrap=True, class_weight=None, criterion='gini',\n",
      "            max_depth=8, max_features='auto', max_leaf_nodes=None,\n",
      "            min_impurity_split=1e-07, min_samples_leaf=1,\n",
      "            min_samples_split=2, min_weight_fraction_leaf=0.0,\n",
      "            n_estimators=35, n_jobs=1, oob_score=False, random_state=None,\n",
      "            verbose=0, warm_start=False)\n",
      "\tAccuracy: 0.89171\tPrecision: 0.74544\tRecall: 0.36750\tF1: 0.49230\tF2: 0.40897\n",
      "\tTotal predictions: 14000\tTrue positives:  735\tFalse positives:  251\tFalse negatives: 1265\tTrue negatives: 11749\n",
      "\n"
     ]
    }
   ],
   "source": [
    "# random forest\n",
    "from sklearn.ensemble import RandomForestClassifier\n",
    "\n",
    "rf = RandomForestClassifier()\n",
    "rf_params = dict(n_estimators = list(range(10, 40, 5)),\n",
    "                 max_depth = list(range(2, 10)))\n",
    "\n",
    "rf_srch = RandomizedSearchCV(rf, param_distributions = rf_params,\n",
    "                             cv = 10, scoring = 'recall', verbose = 1)\n",
    "rf_srch.fit(features, labels)\n",
    "rf = rf_srch.best_estimator_\n",
    "test_classifier(rf, data_dict, reduced_features)"
   ]
  },
  {
   "cell_type": "code",
   "execution_count": 40,
   "metadata": {
    "collapsed": false
   },
   "outputs": [
    {
     "name": "stdout",
     "output_type": "stream",
     "text": [
      "Fitting 10 folds for each of 10 candidates, totalling 100 fits\n"
     ]
    },
    {
     "name": "stderr",
     "output_type": "stream",
     "text": [
      "[Parallel(n_jobs=1)]: Done 100 out of 100 | elapsed:   13.2s finished\n"
     ]
    },
    {
     "name": "stdout",
     "output_type": "stream",
     "text": [
      "AdaBoostClassifier(algorithm='SAMME.R', base_estimator=None,\n",
      "          learning_rate=0.1, n_estimators=50, random_state=None)\n",
      "\tAccuracy: 0.88943\tPrecision: 0.69024\tRecall: 0.41000\tF1: 0.51443\tF2: 0.44623\n",
      "\tTotal predictions: 14000\tTrue positives:  820\tFalse positives:  368\tFalse negatives: 1180\tTrue negatives: 11632\n",
      "\n"
     ]
    }
   ],
   "source": [
    "# adaboost\n",
    "from sklearn.ensemble import AdaBoostClassifier\n",
    "\n",
    "ada = AdaBoostClassifier()\n",
    "ada_params = dict(learning_rate=[x/20.0 for x in range(1, 20)])\n",
    "ada_srch = RandomizedSearchCV(ada, param_distributions = ada_params,\n",
    "                              cv = 10, scoring = 'recall', verbose = 1)\n",
    "ada_srch.fit(features, labels)\n",
    "ada = ada_srch.best_estimator_\n",
    "test_classifier(ada, data_dict, reduced_features)"
   ]
  },
  {
   "cell_type": "markdown",
   "metadata": {},
   "source": [
    "I tried several different classifiers:\n",
    "\n",
    "- gaussian naive bayes\n",
    "- k-nearest neighbors\n",
    "- support vector machine\n",
    "- random forest\n",
    "- adaboost\n",
    "\n",
    "these were the most promising in terms of picking up on non-linear associations in the data.  The accuracy didn't change too much across classifiers with the exception of the naive bayes algorithm which had the lowest.  I ended up with really high precision scores for k-nearest neighbors, the support vector classifier, and random forest.  Unfortunately the recall scores for these weren't as high.  The F1 score was highest for the adaboost classifier offering the best balance of both precision and recall.  I settled on this form my final classifier."
   ]
  },
  {
   "cell_type": "code",
   "execution_count": 49,
   "metadata": {
    "collapsed": false
   },
   "outputs": [],
   "source": [
    "### Task 6: Dump your classifier, dataset, and features_list so anyone can\n",
    "### check your results. You do not need to change anything below, but make sure\n",
    "### that the version of poi_id.py that you submit can be run on its own and\n",
    "### generates the necessary .pkl files for validating your results.\n",
    "\n",
    "dump_classifier_and_data(ada, data_dict, reduced_features)"
   ]
  },
  {
   "cell_type": "markdown",
   "metadata": {},
   "source": [
    "## 4\n",
    "\n",
    "**What does it mean to tune the parameters of an algorithm, and what can happen if you don’t do this well?  How did you tune the parameters of your particular algorithm? (Some algorithms do not have parameters that you need to tune -- if this is the case for the one you picked, identify and briefly explain how you would have done it for the model that was not your final choice or a different model that does utilize parameter tuning, e.g. a decision tree classifier)**"
   ]
  },
  {
   "cell_type": "markdown",
   "metadata": {},
   "source": [
    "Parameter tuning is an important part of the model building process.  It involves adjusting an algorithms internal 'machinery' or hyperparameters so that it can be optimized for the task at hand.  In some cases an algorithm can be very sensitive to the nature of the data, and only certain hyperparameter values will allow the model to perform well.  In other cases, the model may perform fairly well without tuning, but it can perform even better with it.  It's also possible to enhance an algorithm so that it maximizes a particular evaluation metric (as with 'recall' above).\n",
    "\n",
    "The naive bayes classifier was the only algorithm without any hyperparameters.  You can set the priors but it's best to let the algorithm figure that out based upon the data.  In order to find optimal hyperparameters for the other models I tested, I used a randomized grid search which was set to increase the recall score.  Randomization is quicker than a typical grid search and has been shown to be just as good at finding the best parameter settings.  The random search used a stratified k-fold (set to 10) cross validation so that test and train subset were balanced over the target POI class.  The adaboost classifier, which was my final model, achieved it's best score with a learning rate of 0.10.  So any values larger than this may not have allowed the algorithm to converge to a local/global minimum for the loss function, while smaller values did not reach a minimum with the given amount of iterations."
   ]
  },
  {
   "cell_type": "markdown",
   "metadata": {},
   "source": [
    "## 5\n",
    "\n",
    "**What is validation, and what’s a classic mistake you can make if you do it wrong? How did you validate your analysis?**"
   ]
  },
  {
   "cell_type": "markdown",
   "metadata": {},
   "source": [
    "Validation is the process of estimating the model's performance on unseen data.  It prevents us from overfitting on training data while selecting features and building the model.  It's important to get an idea for how the model will generalize to new data.  A model that is overfit and does not perform well on new data is pretty much useless.\n",
    "\n",
    "To validate all of the tested models, I used a stratified shuffle split cross validation.  Stratification of folds in a cross-validation ensure that each test and train set have a balanced proportion of the target class.  So each test and train fold in this context will have roughly the same ratio of POIs to non-POIs.  This is important as an imbalance can give unrealistic evaluation metrics.  The shuffle split ensures randomization across folds and in such a way that folds are not continuous chunks of data (ie indices are mixed up)."
   ]
  },
  {
   "cell_type": "markdown",
   "metadata": {},
   "source": [
    "## 6\n",
    "\n",
    "**Give at least 2 evaluation metrics and your average performance for each of them.  Explain an interpretation of your metrics that says something human-understandable about your algorithm’s performance. **"
   ]
  },
  {
   "cell_type": "markdown",
   "metadata": {},
   "source": [
    "The final adaboost classifier achieved an accuracy of 0.89 with precision and recall scores of 0.69 and 0.41.  Accuracy is simply the ratio of true predictions over total predictions.  This means that 89% of the time, the adaboost classifier correctly identified a person as POI or non-POI.  This is actually a poor metric for this data set because of the few number of POIs.  If you were to guess that all people were non-POIs, you would achieve an accuracy of (146 - 18)/146 = 87%.  So although this seems like a high accuracy score, it's not much better than assuming nobody is a POI.\n",
    "\n",
    "This is why recall and precision are much better metrics.  The precision score for the adaboost classifier means that when the algorithm labeled a person as a POI, 69% percent of the time they were.  This also means that 31% of people were incorrectly identified as POIs.  When the algorithm was evaluating a POI, 41% of the time they would be correctly labeled, which is the recall.  So about 59% of POIs 'got away' from the classifier."
   ]
  }
 ],
 "metadata": {
  "kernelspec": {
   "display_name": "Python 2",
   "language": "python",
   "name": "python2"
  },
  "language_info": {
   "codemirror_mode": {
    "name": "ipython",
    "version": 2
   },
   "file_extension": ".py",
   "mimetype": "text/x-python",
   "name": "python",
   "nbconvert_exporter": "python",
   "pygments_lexer": "ipython2",
   "version": "2.7.13"
  }
 },
 "nbformat": 4,
 "nbformat_minor": 0
}
